{
  "nbformat": 4,
  "nbformat_minor": 0,
  "metadata": {
    "colab": {
      "provenance": []
    },
    "kernelspec": {
      "name": "python3",
      "display_name": "Python 3"
    },
    "language_info": {
      "name": "python"
    }
  },
  "cells": [
    {
      "cell_type": "code",
      "execution_count": null,
      "metadata": {
        "colab": {
          "base_uri": "https://localhost:8080/"
        },
        "id": "ME38J8UbUslI",
        "outputId": "e33230bc-0b9c-4585-e306-cbf59150e83a"
      },
      "outputs": [
        {
          "output_type": "stream",
          "name": "stdout",
          "text": [
            "Collecting google-play-scraper\n",
            "  Downloading google_play_scraper-1.2.7-py3-none-any.whl.metadata (50 kB)\n",
            "\u001b[?25l     \u001b[90m━━━━━━━━━━━━━━━━━━━━━━━━━━━━━━━━━━━━━━━━\u001b[0m \u001b[32m0.0/50.2 kB\u001b[0m \u001b[31m?\u001b[0m eta \u001b[36m-:--:--\u001b[0m\r\u001b[2K     \u001b[90m━━━━━━━━━━━━━━━━━━━━━━━━━━━━━━━━━━━━━━━━\u001b[0m \u001b[32m50.2/50.2 kB\u001b[0m \u001b[31m3.3 MB/s\u001b[0m eta \u001b[36m0:00:00\u001b[0m\n",
            "\u001b[?25hDownloading google_play_scraper-1.2.7-py3-none-any.whl (28 kB)\n",
            "Installing collected packages: google-play-scraper\n",
            "Successfully installed google-play-scraper-1.2.7\n"
          ]
        }
      ],
      "source": [
        "pip install google-play-scraper\n"
      ]
    },
    {
      "cell_type": "code",
      "source": [
        "from google_play_scraper import reviews, Sort\n",
        "import pandas as pd\n",
        "\n",
        "# Ambil 10000 review terbaru\n",
        "app_id = 'co.id.bankbsi.superapp'  # ID aplikasi BYOND by BSI\n",
        "result, _ = reviews(\n",
        "    app_id,\n",
        "    lang='id',          # Bahasa Indonesia\n",
        "    country='id',       # Wilayah Indonesia\n",
        "    sort=Sort.NEWEST,   # Urut dari review terbaru\n",
        "    count=10000         # Jumlah review yang diambil\n",
        ")\n",
        "\n",
        "# Simpan hanya kolom review & rating\n",
        "df = pd.DataFrame(result)[['content', 'score']]\n",
        "df.columns = ['review', 'rating']\n",
        "\n",
        "df.to_csv('ulasan_byond_10.000.csv', index=False, encoding='utf-8-sig')\n",
        "print(\"✅ Data berhasil diunduh ke 'ulasan_byond_10.000.csv'\")\n"
      ],
      "metadata": {
        "colab": {
          "base_uri": "https://localhost:8080/"
        },
        "id": "oCWV2_NJVQnt",
        "outputId": "c6413337-a9a1-4781-c272-6e12fea08fbc"
      },
      "execution_count": null,
      "outputs": [
        {
          "output_type": "stream",
          "name": "stdout",
          "text": [
            "✅ Data berhasil diunduh ke 'ulasan_byond_10.000.csv'\n"
          ]
        }
      ]
    },
    {
      "cell_type": "code",
      "source": [
        "import pandas as pd\n",
        "import re\n",
        "\n",
        "# Baca dataset\n",
        "df = pd.read_csv(\"ulasan_byond_10.000.csv\")\n",
        "\n",
        "# Kamus kata kunci\n",
        "positive_words = [\"bagus\", \"mantap\", \"puas\", \"baik\", \"cepat\", \"nyaman\", \"mudah\", \"suka\", \"membantu\", \"keren\", \"responsif\", \"praktis\", \"sempurna\", \"aman\", \"lancar\", \"terbaik\", \"stabil\", \"hebat\",  ]\n",
        "negative_words = [\"buruk\", \"error\", \"kecewa\", \"lambat\", \"jelek\", \"parah\", \"tidak bisa\", \"macet\", \"hilang\", \"sulit\", \"gangguan\", \"lemot\", \"kecewa\", \"ribet\", \"masalah\", \"bug\", \"parah\"]\n",
        "\n",
        "# Fungsi deteksi kata kunci\n",
        "def detect_sentiment(text):\n",
        "    text = str(text).lower()\n",
        "    if any(re.search(rf\"\\b{kw}\\b\", text) for kw in positive_words):\n",
        "        return \"positif\"\n",
        "    elif any(re.search(rf\"\\b{kw}\\b\", text) for kw in negative_words):\n",
        "        return \"negatif\"\n",
        "    else:\n",
        "        return None\n",
        "\n",
        "# Label awal berdasarkan kamus\n",
        "df[\"label_kamus\"] = df[\"review\"].apply(detect_sentiment)\n",
        "\n",
        "# Perkuat label dengan rating\n",
        "def label_from_rating(rating):\n",
        "    if rating >= 4:\n",
        "        return \"positif\"\n",
        "    elif rating <= 3:\n",
        "        return \"negatif\"\n",
        "    else:\n",
        "        return None\n",
        "\n",
        "df[\"label_rating\"] = df[\"rating\"].apply(label_from_rating)\n",
        "\n",
        "# Gabungkan label\n",
        "def combine_labels(row):\n",
        "    if row[\"label_kamus\"]:\n",
        "        return row[\"label_kamus\"]  # Jika ada kata kunci, pakai itu\n",
        "    else:\n",
        "        return row[\"label_rating\"] # Kalau tidak ada, pakai label rating\n",
        "\n",
        "df[\"final_label\"] = df.apply(combine_labels, axis=1)\n",
        "\n",
        "# Simpan hasil\n",
        "df.to_csv(\"ulasan_byond_labeled_10.000.csv\", index=False, encoding=\"utf-8-sig\")\n",
        "\n",
        "print(\"✅ Pelabelan selesai! File tersimpan sebagai 'ulasan_byond_labeled_10.000.csv'\")\n"
      ],
      "metadata": {
        "colab": {
          "base_uri": "https://localhost:8080/"
        },
        "id": "coReSXTSXiKr",
        "outputId": "0aa57520-6349-4f5f-ed48-701dcae507d2"
      },
      "execution_count": null,
      "outputs": [
        {
          "output_type": "stream",
          "name": "stdout",
          "text": [
            "✅ Pelabelan selesai! File tersimpan sebagai 'ulasan_byond_labeled_10.000.csv'\n"
          ]
        }
      ]
    }
  ]
}