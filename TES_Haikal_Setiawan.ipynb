{
  "cells": [
    {
      "cell_type": "markdown",
      "metadata": {
        "id": "v7RPTbPIwBMW"
      },
      "source": [
        "# Preprocessing"
      ]
    },
    {
      "cell_type": "code",
      "execution_count": null,
      "metadata": {
        "colab": {
          "base_uri": "https://localhost:8080/"
        },
        "id": "Oca7iw_zw91M",
        "outputId": "2f219514-54d3-4c92-c722-f12ec07a7516"
      },
      "outputs": [
        {
          "output_type": "stream",
          "name": "stdout",
          "text": [
            "Requirement already satisfied: nltk in /usr/local/lib/python3.11/dist-packages (3.9.1)\n",
            "Requirement already satisfied: click in /usr/local/lib/python3.11/dist-packages (from nltk) (8.2.1)\n",
            "Requirement already satisfied: joblib in /usr/local/lib/python3.11/dist-packages (from nltk) (1.5.1)\n",
            "Requirement already satisfied: regex>=2021.8.3 in /usr/local/lib/python3.11/dist-packages (from nltk) (2024.11.6)\n",
            "Requirement already satisfied: tqdm in /usr/local/lib/python3.11/dist-packages (from nltk) (4.67.1)\n"
          ]
        }
      ],
      "source": [
        "pip install nltk"
      ]
    },
    {
      "cell_type": "code",
      "execution_count": null,
      "metadata": {
        "colab": {
          "base_uri": "https://localhost:8080/"
        },
        "id": "mPaf01vJxJnE",
        "outputId": "8f001a87-a5c8-4615-8ac1-db2897ed68fa"
      },
      "outputs": [
        {
          "output_type": "stream",
          "name": "stdout",
          "text": [
            "Collecting Sastrawi\n",
            "  Downloading Sastrawi-1.0.1-py2.py3-none-any.whl.metadata (909 bytes)\n",
            "Downloading Sastrawi-1.0.1-py2.py3-none-any.whl (209 kB)\n",
            "\u001b[2K   \u001b[90m━━━━━━━━━━━━━━━━━━━━━━━━━━━━━━━━━━━━━━━━\u001b[0m \u001b[32m209.7/209.7 kB\u001b[0m \u001b[31m3.1 MB/s\u001b[0m eta \u001b[36m0:00:00\u001b[0m\n",
            "\u001b[?25hInstalling collected packages: Sastrawi\n",
            "Successfully installed Sastrawi-1.0.1\n"
          ]
        }
      ],
      "source": [
        "pip install Sastrawi"
      ]
    },
    {
      "cell_type": "code",
      "execution_count": null,
      "metadata": {
        "colab": {
          "base_uri": "https://localhost:8080/"
        },
        "id": "IJs3mN_3wBMZ",
        "outputId": "1bcc8608-c2a8-4794-fdd6-b60349e4a4bb"
      },
      "outputs": [
        {
          "output_type": "stream",
          "name": "stderr",
          "text": [
            "[nltk_data] Downloading package punkt_tab to /root/nltk_data...\n",
            "[nltk_data]   Unzipping tokenizers/punkt_tab.zip.\n",
            "[nltk_data] Downloading package punkt to /root/nltk_data...\n",
            "[nltk_data]   Unzipping tokenizers/punkt.zip.\n",
            "[nltk_data] Downloading package stopwords to /root/nltk_data...\n",
            "[nltk_data]   Unzipping corpora/stopwords.zip.\n"
          ]
        }
      ],
      "source": [
        "import pandas as pd\n",
        "import re\n",
        "import string\n",
        "import nltk\n",
        "from nltk.corpus import stopwords\n",
        "from nltk.tokenize import word_tokenize\n",
        "from Sastrawi.Stemmer.StemmerFactory import StemmerFactory\n",
        "import nltk\n",
        "nltk.download('punkt_tab')\n",
        "\n",
        "# Download resource yang dibutuhkan NLTK\n",
        "nltk.download('punkt')\n",
        "nltk.download('stopwords')\n",
        "\n",
        "# Inisialisasi stemmer Bahasa Indonesia\n",
        "factory = StemmerFactory()\n",
        "stemmer = factory.create_stemmer()\n",
        "\n",
        "\n",
        "\n"
      ]
    },
    {
      "cell_type": "code",
      "execution_count": null,
      "metadata": {
        "colab": {
          "base_uri": "https://localhost:8080/"
        },
        "id": "bV9-6TNX5luY",
        "outputId": "eaf45e7a-8358-4dbb-b866-3990bc253523"
      },
      "outputs": [
        {
          "output_type": "stream",
          "name": "stderr",
          "text": [
            "[nltk_data] Downloading package punkt to /root/nltk_data...\n",
            "[nltk_data]   Package punkt is already up-to-date!\n",
            "[nltk_data] Downloading package stopwords to /root/nltk_data...\n",
            "[nltk_data]   Package stopwords is already up-to-date!\n"
          ]
        },
        {
          "output_type": "execute_result",
          "data": {
            "text/plain": [
              "True"
            ]
          },
          "metadata": {},
          "execution_count": 4
        }
      ],
      "source": [
        "import nltk\n",
        "from nltk.tokenize import word_tokenize\n",
        "\n",
        "# Download resource yang benar\n",
        "nltk.download('punkt')\n",
        "nltk.download('stopwords')\n"
      ]
    },
    {
      "cell_type": "code",
      "execution_count": null,
      "metadata": {
        "id": "IHCyuEzxwBMg"
      },
      "outputs": [],
      "source": [
        "data = pd.read_csv('ulasan_byond_10.000.csv')"
      ]
    },
    {
      "cell_type": "code",
      "execution_count": null,
      "metadata": {
        "colab": {
          "base_uri": "https://localhost:8080/",
          "height": 273
        },
        "id": "DGdFw9IvwBMk",
        "outputId": "1b6c2fdd-d5d4-497a-ea3f-fd6397ce3836"
      },
      "outputs": [
        {
          "output_type": "execute_result",
          "data": {
            "text/plain": [
              "rating\n",
              "5    4534\n",
              "1    3826\n",
              "2     734\n",
              "3     589\n",
              "4     317\n",
              "Name: count, dtype: int64"
            ],
            "text/html": [
              "<div>\n",
              "<style scoped>\n",
              "    .dataframe tbody tr th:only-of-type {\n",
              "        vertical-align: middle;\n",
              "    }\n",
              "\n",
              "    .dataframe tbody tr th {\n",
              "        vertical-align: top;\n",
              "    }\n",
              "\n",
              "    .dataframe thead th {\n",
              "        text-align: right;\n",
              "    }\n",
              "</style>\n",
              "<table border=\"1\" class=\"dataframe\">\n",
              "  <thead>\n",
              "    <tr style=\"text-align: right;\">\n",
              "      <th></th>\n",
              "      <th>count</th>\n",
              "    </tr>\n",
              "    <tr>\n",
              "      <th>rating</th>\n",
              "      <th></th>\n",
              "    </tr>\n",
              "  </thead>\n",
              "  <tbody>\n",
              "    <tr>\n",
              "      <th>5</th>\n",
              "      <td>4534</td>\n",
              "    </tr>\n",
              "    <tr>\n",
              "      <th>1</th>\n",
              "      <td>3826</td>\n",
              "    </tr>\n",
              "    <tr>\n",
              "      <th>2</th>\n",
              "      <td>734</td>\n",
              "    </tr>\n",
              "    <tr>\n",
              "      <th>3</th>\n",
              "      <td>589</td>\n",
              "    </tr>\n",
              "    <tr>\n",
              "      <th>4</th>\n",
              "      <td>317</td>\n",
              "    </tr>\n",
              "  </tbody>\n",
              "</table>\n",
              "</div><br><label><b>dtype:</b> int64</label>"
            ]
          },
          "metadata": {},
          "execution_count": 6
        }
      ],
      "source": [
        "data['rating'].value_counts()"
      ]
    },
    {
      "cell_type": "code",
      "source": [
        "data = pd.read_csv('ulasan_byond_labeled_10.000.csv')"
      ],
      "metadata": {
        "id": "9ANcZoYRYzeZ"
      },
      "execution_count": null,
      "outputs": []
    },
    {
      "cell_type": "code",
      "source": [
        "data['final_label'].value_counts()"
      ],
      "metadata": {
        "colab": {
          "base_uri": "https://localhost:8080/",
          "height": 210
        },
        "id": "hcwuS0CtYZrN",
        "outputId": "875ea5b4-b200-4a65-9a0c-c8c6a99b929d"
      },
      "execution_count": null,
      "outputs": [
        {
          "output_type": "execute_result",
          "data": {
            "text/plain": [
              "final_label\n",
              "positif    5450\n",
              "negatif    4154\n",
              "netral      396\n",
              "Name: count, dtype: int64"
            ],
            "text/html": [
              "<div>\n",
              "<style scoped>\n",
              "    .dataframe tbody tr th:only-of-type {\n",
              "        vertical-align: middle;\n",
              "    }\n",
              "\n",
              "    .dataframe tbody tr th {\n",
              "        vertical-align: top;\n",
              "    }\n",
              "\n",
              "    .dataframe thead th {\n",
              "        text-align: right;\n",
              "    }\n",
              "</style>\n",
              "<table border=\"1\" class=\"dataframe\">\n",
              "  <thead>\n",
              "    <tr style=\"text-align: right;\">\n",
              "      <th></th>\n",
              "      <th>count</th>\n",
              "    </tr>\n",
              "    <tr>\n",
              "      <th>final_label</th>\n",
              "      <th></th>\n",
              "    </tr>\n",
              "  </thead>\n",
              "  <tbody>\n",
              "    <tr>\n",
              "      <th>positif</th>\n",
              "      <td>5450</td>\n",
              "    </tr>\n",
              "    <tr>\n",
              "      <th>negatif</th>\n",
              "      <td>4154</td>\n",
              "    </tr>\n",
              "    <tr>\n",
              "      <th>netral</th>\n",
              "      <td>396</td>\n",
              "    </tr>\n",
              "  </tbody>\n",
              "</table>\n",
              "</div><br><label><b>dtype:</b> int64</label>"
            ]
          },
          "metadata": {},
          "execution_count": 8
        }
      ]
    },
    {
      "cell_type": "code",
      "execution_count": null,
      "metadata": {
        "id": "CbTl9FH7wBMp"
      },
      "outputs": [],
      "source": [
        "def preprocess(dat):\n",
        "    #casefolding\n",
        "    dat = dat.str.lower()\n",
        "\n",
        "    #Punctuation Removal - seluruh simbol diganti penjadi space\n",
        "    regex = r'\\-t'\n",
        "    dat = dat.str.replace(regex, ' ', regex=True) #hapus\n",
        "    regex = r'[, ]+'\n",
        "    dat = dat.str.replace(regex, ' ', regex=True) #hapus\n",
        "    regex = r'[^a-zA-Z\\s]'\n",
        "    dat = dat.str.replace(regex, ' ', regex=True) # hapus\n",
        "\n",
        "    # Hapus enter, ganti dengan space\n",
        "    regex = r'\\n'\n",
        "    dat = dat.str.replace(regex, ' ', regex=True) # hapus\n",
        "\n",
        "    return dat"
      ]
    },
    {
      "cell_type": "code",
      "execution_count": null,
      "metadata": {
        "id": "EZNaAh2owBMt"
      },
      "outputs": [],
      "source": [
        "#memeriksa isi stopword list\n",
        "#indo = stopwords.words('indonesian')\n",
        "#indo"
      ]
    },
    {
      "cell_type": "code",
      "execution_count": null,
      "metadata": {
        "id": "XcYOEgfqwBMy"
      },
      "outputs": [],
      "source": [
        "def stop(dat):\n",
        "    stop_words = list(set(stopwords.words('indonesian')))\n",
        "\n",
        "    #list stopword yang disingkat\n",
        "    stop_words.append(\"fitur\"), stop_words.append(\"aplikasi\"),stop_words.append(\"byond\"),stop_words.append(\"ya\"),stop_words.append(\"banget\"),stop_words.append(\"bikin\"),stop_words.append(\"mohon\"),\n",
        "    stop_words.append(\"dgn\"), stop_words.append(\"adlh\"),stop_words.append(\"ak\"),stop_words.append(\"aq\"),stop_words.append(\"min\"),stop_words.append(\"pake\"),stop_words.append(\"via\"),\n",
        "    stop_words.append(\"sy\"), stop_words.append(\"gw\"), stop_words.append(\"gue\"),stop_words.append(\"pa\"),stop_words.append(\"aja\"),stop_words.append(\"dia\"),stop_words.append(\"kalo\"),\n",
        "    stop_words.append(\"ap\"), stop_words.append(\"apkah\"),stop_words.append(\"apkh\"),stop_words.append(\"bt\"),stop_words.append(\"apl\"),stop_words.append(\"apk\"),stop_words.append(\"sort\"),\n",
        "\n",
        "\n",
        "    for i, v in dat.iterrows():\n",
        "        words = word_tokenize(v['text'])\n",
        "\n",
        "        # dat[i] = [w for w in words if not w in stop_word]\n",
        "\n",
        "        text=''\n",
        "        for w in words:\n",
        "            if w not in stop_words:\n",
        "                text=text+' '+w\n",
        "        dat.at[i, 'text']=text\n",
        "        #del words\n",
        "    return dat"
      ]
    },
    {
      "cell_type": "code",
      "execution_count": null,
      "metadata": {
        "id": "p8J_EVSowBM2"
      },
      "outputs": [],
      "source": [
        "data['review'] = preprocess(data['review'])"
      ]
    },
    {
      "cell_type": "code",
      "execution_count": null,
      "metadata": {
        "id": "_ShUD27HwBM7",
        "colab": {
          "base_uri": "https://localhost:8080/",
          "height": 547
        },
        "outputId": "3b7f51b4-1ab3-45be-aeef-371ca90d209c"
      },
      "outputs": [
        {
          "output_type": "error",
          "ename": "KeyError",
          "evalue": "'text'",
          "traceback": [
            "\u001b[0;31m---------------------------------------------------------------------------\u001b[0m",
            "\u001b[0;31mKeyError\u001b[0m                                  Traceback (most recent call last)",
            "\u001b[0;32m/usr/local/lib/python3.11/dist-packages/pandas/core/indexes/base.py\u001b[0m in \u001b[0;36mget_loc\u001b[0;34m(self, key)\u001b[0m\n\u001b[1;32m   3804\u001b[0m         \u001b[0;32mtry\u001b[0m\u001b[0;34m:\u001b[0m\u001b[0;34m\u001b[0m\u001b[0;34m\u001b[0m\u001b[0m\n\u001b[0;32m-> 3805\u001b[0;31m             \u001b[0;32mreturn\u001b[0m \u001b[0mself\u001b[0m\u001b[0;34m.\u001b[0m\u001b[0m_engine\u001b[0m\u001b[0;34m.\u001b[0m\u001b[0mget_loc\u001b[0m\u001b[0;34m(\u001b[0m\u001b[0mcasted_key\u001b[0m\u001b[0;34m)\u001b[0m\u001b[0;34m\u001b[0m\u001b[0;34m\u001b[0m\u001b[0m\n\u001b[0m\u001b[1;32m   3806\u001b[0m         \u001b[0;32mexcept\u001b[0m \u001b[0mKeyError\u001b[0m \u001b[0;32mas\u001b[0m \u001b[0merr\u001b[0m\u001b[0;34m:\u001b[0m\u001b[0;34m\u001b[0m\u001b[0;34m\u001b[0m\u001b[0m\n",
            "\u001b[0;32mindex.pyx\u001b[0m in \u001b[0;36mpandas._libs.index.IndexEngine.get_loc\u001b[0;34m()\u001b[0m\n",
            "\u001b[0;32mindex.pyx\u001b[0m in \u001b[0;36mpandas._libs.index.IndexEngine.get_loc\u001b[0;34m()\u001b[0m\n",
            "\u001b[0;32mpandas/_libs/hashtable_class_helper.pxi\u001b[0m in \u001b[0;36mpandas._libs.hashtable.PyObjectHashTable.get_item\u001b[0;34m()\u001b[0m\n",
            "\u001b[0;32mpandas/_libs/hashtable_class_helper.pxi\u001b[0m in \u001b[0;36mpandas._libs.hashtable.PyObjectHashTable.get_item\u001b[0;34m()\u001b[0m\n",
            "\u001b[0;31mKeyError\u001b[0m: 'text'",
            "\nThe above exception was the direct cause of the following exception:\n",
            "\u001b[0;31mKeyError\u001b[0m                                  Traceback (most recent call last)",
            "\u001b[0;32m/tmp/ipython-input-361810198.py\u001b[0m in \u001b[0;36m<cell line: 0>\u001b[0;34m()\u001b[0m\n\u001b[0;32m----> 1\u001b[0;31m \u001b[0mdata\u001b[0m \u001b[0;34m=\u001b[0m \u001b[0mstop\u001b[0m\u001b[0;34m(\u001b[0m\u001b[0mdata\u001b[0m\u001b[0;34m)\u001b[0m\u001b[0;34m\u001b[0m\u001b[0;34m\u001b[0m\u001b[0m\n\u001b[0m",
            "\u001b[0;32m/tmp/ipython-input-4272515408.py\u001b[0m in \u001b[0;36mstop\u001b[0;34m(dat)\u001b[0m\n\u001b[1;32m     10\u001b[0m \u001b[0;34m\u001b[0m\u001b[0m\n\u001b[1;32m     11\u001b[0m     \u001b[0;32mfor\u001b[0m \u001b[0mi\u001b[0m\u001b[0;34m,\u001b[0m \u001b[0mv\u001b[0m \u001b[0;32min\u001b[0m \u001b[0mdat\u001b[0m\u001b[0;34m.\u001b[0m\u001b[0miterrows\u001b[0m\u001b[0;34m(\u001b[0m\u001b[0;34m)\u001b[0m\u001b[0;34m:\u001b[0m\u001b[0;34m\u001b[0m\u001b[0;34m\u001b[0m\u001b[0m\n\u001b[0;32m---> 12\u001b[0;31m         \u001b[0mwords\u001b[0m \u001b[0;34m=\u001b[0m \u001b[0mword_tokenize\u001b[0m\u001b[0;34m(\u001b[0m\u001b[0mv\u001b[0m\u001b[0;34m[\u001b[0m\u001b[0;34m'text'\u001b[0m\u001b[0;34m]\u001b[0m\u001b[0;34m)\u001b[0m\u001b[0;34m\u001b[0m\u001b[0;34m\u001b[0m\u001b[0m\n\u001b[0m\u001b[1;32m     13\u001b[0m \u001b[0;34m\u001b[0m\u001b[0m\n\u001b[1;32m     14\u001b[0m         \u001b[0;31m# dat[i] = [w for w in words if not w in stop_word]\u001b[0m\u001b[0;34m\u001b[0m\u001b[0;34m\u001b[0m\u001b[0m\n",
            "\u001b[0;32m/usr/local/lib/python3.11/dist-packages/pandas/core/series.py\u001b[0m in \u001b[0;36m__getitem__\u001b[0;34m(self, key)\u001b[0m\n\u001b[1;32m   1119\u001b[0m \u001b[0;34m\u001b[0m\u001b[0m\n\u001b[1;32m   1120\u001b[0m         \u001b[0;32melif\u001b[0m \u001b[0mkey_is_scalar\u001b[0m\u001b[0;34m:\u001b[0m\u001b[0;34m\u001b[0m\u001b[0;34m\u001b[0m\u001b[0m\n\u001b[0;32m-> 1121\u001b[0;31m             \u001b[0;32mreturn\u001b[0m \u001b[0mself\u001b[0m\u001b[0;34m.\u001b[0m\u001b[0m_get_value\u001b[0m\u001b[0;34m(\u001b[0m\u001b[0mkey\u001b[0m\u001b[0;34m)\u001b[0m\u001b[0;34m\u001b[0m\u001b[0;34m\u001b[0m\u001b[0m\n\u001b[0m\u001b[1;32m   1122\u001b[0m \u001b[0;34m\u001b[0m\u001b[0m\n\u001b[1;32m   1123\u001b[0m         \u001b[0;31m# Convert generator to list before going through hashable part\u001b[0m\u001b[0;34m\u001b[0m\u001b[0;34m\u001b[0m\u001b[0m\n",
            "\u001b[0;32m/usr/local/lib/python3.11/dist-packages/pandas/core/series.py\u001b[0m in \u001b[0;36m_get_value\u001b[0;34m(self, label, takeable)\u001b[0m\n\u001b[1;32m   1235\u001b[0m \u001b[0;34m\u001b[0m\u001b[0m\n\u001b[1;32m   1236\u001b[0m         \u001b[0;31m# Similar to Index.get_value, but we do not fall back to positional\u001b[0m\u001b[0;34m\u001b[0m\u001b[0;34m\u001b[0m\u001b[0m\n\u001b[0;32m-> 1237\u001b[0;31m         \u001b[0mloc\u001b[0m \u001b[0;34m=\u001b[0m \u001b[0mself\u001b[0m\u001b[0;34m.\u001b[0m\u001b[0mindex\u001b[0m\u001b[0;34m.\u001b[0m\u001b[0mget_loc\u001b[0m\u001b[0;34m(\u001b[0m\u001b[0mlabel\u001b[0m\u001b[0;34m)\u001b[0m\u001b[0;34m\u001b[0m\u001b[0;34m\u001b[0m\u001b[0m\n\u001b[0m\u001b[1;32m   1238\u001b[0m \u001b[0;34m\u001b[0m\u001b[0m\n\u001b[1;32m   1239\u001b[0m         \u001b[0;32mif\u001b[0m \u001b[0mis_integer\u001b[0m\u001b[0;34m(\u001b[0m\u001b[0mloc\u001b[0m\u001b[0;34m)\u001b[0m\u001b[0;34m:\u001b[0m\u001b[0;34m\u001b[0m\u001b[0;34m\u001b[0m\u001b[0m\n",
            "\u001b[0;32m/usr/local/lib/python3.11/dist-packages/pandas/core/indexes/base.py\u001b[0m in \u001b[0;36mget_loc\u001b[0;34m(self, key)\u001b[0m\n\u001b[1;32m   3810\u001b[0m             ):\n\u001b[1;32m   3811\u001b[0m                 \u001b[0;32mraise\u001b[0m \u001b[0mInvalidIndexError\u001b[0m\u001b[0;34m(\u001b[0m\u001b[0mkey\u001b[0m\u001b[0;34m)\u001b[0m\u001b[0;34m\u001b[0m\u001b[0;34m\u001b[0m\u001b[0m\n\u001b[0;32m-> 3812\u001b[0;31m             \u001b[0;32mraise\u001b[0m \u001b[0mKeyError\u001b[0m\u001b[0;34m(\u001b[0m\u001b[0mkey\u001b[0m\u001b[0;34m)\u001b[0m \u001b[0;32mfrom\u001b[0m \u001b[0merr\u001b[0m\u001b[0;34m\u001b[0m\u001b[0;34m\u001b[0m\u001b[0m\n\u001b[0m\u001b[1;32m   3813\u001b[0m         \u001b[0;32mexcept\u001b[0m \u001b[0mTypeError\u001b[0m\u001b[0;34m:\u001b[0m\u001b[0;34m\u001b[0m\u001b[0;34m\u001b[0m\u001b[0m\n\u001b[1;32m   3814\u001b[0m             \u001b[0;31m# If we have a listlike key, _check_indexing_error will raise\u001b[0m\u001b[0;34m\u001b[0m\u001b[0;34m\u001b[0m\u001b[0m\n",
            "\u001b[0;31mKeyError\u001b[0m: 'text'"
          ]
        }
      ],
      "source": [
        "data = stop(data)"
      ]
    },
    {
      "cell_type": "code",
      "execution_count": null,
      "metadata": {
        "colab": {
          "base_uri": "https://localhost:8080/",
          "height": 459
        },
        "id": "ApHcg3TnwBM_",
        "outputId": "6a5aa3a1-5809-4bd5-fd2f-3a7e2780434c"
      },
      "outputs": [
        {
          "output_type": "execute_result",
          "data": {
            "text/plain": [
              "0       saya udh ratusan kali daftar byond ini selalu ...\n",
              "1       transaksi gagal tpii saldo saya terpotong dari...\n",
              "2                          kenapa mental teruss mau login\n",
              "3                                                   bagus\n",
              "4                                                   bagus\n",
              "                              ...                        \n",
              "9995    sering masalah saat hendak transaksi aplikasin...\n",
              "9996    tampilan baru lebih keren syariah juga bisa mo...\n",
              "9997    sudah nyoba lebih x sepertinya buat daptar buk...\n",
              "9998    tampilannya keren simple aplikasi ini cocok un...\n",
              "9999    aplikasi ini kekurangan nya cuma tidak bisa la...\n",
              "Name: review, Length: 10000, dtype: object"
            ],
            "text/html": [
              "<div>\n",
              "<style scoped>\n",
              "    .dataframe tbody tr th:only-of-type {\n",
              "        vertical-align: middle;\n",
              "    }\n",
              "\n",
              "    .dataframe tbody tr th {\n",
              "        vertical-align: top;\n",
              "    }\n",
              "\n",
              "    .dataframe thead th {\n",
              "        text-align: right;\n",
              "    }\n",
              "</style>\n",
              "<table border=\"1\" class=\"dataframe\">\n",
              "  <thead>\n",
              "    <tr style=\"text-align: right;\">\n",
              "      <th></th>\n",
              "      <th>review</th>\n",
              "    </tr>\n",
              "  </thead>\n",
              "  <tbody>\n",
              "    <tr>\n",
              "      <th>0</th>\n",
              "      <td>saya udh ratusan kali daftar byond ini selalu ...</td>\n",
              "    </tr>\n",
              "    <tr>\n",
              "      <th>1</th>\n",
              "      <td>transaksi gagal tpii saldo saya terpotong dari...</td>\n",
              "    </tr>\n",
              "    <tr>\n",
              "      <th>2</th>\n",
              "      <td>kenapa mental teruss mau login</td>\n",
              "    </tr>\n",
              "    <tr>\n",
              "      <th>3</th>\n",
              "      <td>bagus</td>\n",
              "    </tr>\n",
              "    <tr>\n",
              "      <th>4</th>\n",
              "      <td>bagus</td>\n",
              "    </tr>\n",
              "    <tr>\n",
              "      <th>...</th>\n",
              "      <td>...</td>\n",
              "    </tr>\n",
              "    <tr>\n",
              "      <th>9995</th>\n",
              "      <td>sering masalah saat hendak transaksi aplikasin...</td>\n",
              "    </tr>\n",
              "    <tr>\n",
              "      <th>9996</th>\n",
              "      <td>tampilan baru lebih keren syariah juga bisa mo...</td>\n",
              "    </tr>\n",
              "    <tr>\n",
              "      <th>9997</th>\n",
              "      <td>sudah nyoba lebih x sepertinya buat daptar buk...</td>\n",
              "    </tr>\n",
              "    <tr>\n",
              "      <th>9998</th>\n",
              "      <td>tampilannya keren simple aplikasi ini cocok un...</td>\n",
              "    </tr>\n",
              "    <tr>\n",
              "      <th>9999</th>\n",
              "      <td>aplikasi ini kekurangan nya cuma tidak bisa la...</td>\n",
              "    </tr>\n",
              "  </tbody>\n",
              "</table>\n",
              "<p>10000 rows × 1 columns</p>\n",
              "</div><br><label><b>dtype:</b> object</label>"
            ]
          },
          "metadata": {},
          "execution_count": 19
        }
      ],
      "source": [
        "data['review']"
      ]
    },
    {
      "cell_type": "code",
      "execution_count": null,
      "metadata": {
        "id": "Qc4TKMK1wBND"
      },
      "outputs": [],
      "source": [
        "from Sastrawi.Stemmer.StemmerFactory import StemmerFactory\n",
        "\n",
        "# create stemmer\n",
        "factory = StemmerFactory()\n",
        "stemmer = factory.create_stemmer()"
      ]
    },
    {
      "cell_type": "code",
      "execution_count": null,
      "metadata": {
        "id": "-5D2IJKRwBNG",
        "scrolled": true
      },
      "outputs": [],
      "source": [
        "# for i, v in data.iterrows():\n",
        "#   data['review'] = stemmer.stem(v['review'])\n",
        "\n",
        "# data.apply(lambda row: stemmer.stem(row['review']), axis=1)\n",
        "\n",
        "data['review'] = [stemmer.stem(row) for row in data['review']]"
      ]
    },
    {
      "cell_type": "code",
      "execution_count": null,
      "metadata": {
        "id": "Q7mK6kv7wBNK"
      },
      "outputs": [],
      "source": [
        "data = data[data.review != \"\"]\n"
      ]
    },
    {
      "cell_type": "code",
      "execution_count": null,
      "metadata": {
        "id": "R1-GR-KjsDM0"
      },
      "outputs": [],
      "source": [
        "data.to_csv(\"hasil_prepros.csv\")"
      ]
    },
    {
      "cell_type": "markdown",
      "metadata": {
        "id": "UjFGNvuzwBNR"
      },
      "source": [
        "# Fitur Ekstraksi dengan TF-IDF"
      ]
    },
    {
      "cell_type": "code",
      "execution_count": null,
      "metadata": {
        "id": "gCJqoMLIwBNR"
      },
      "outputs": [],
      "source": [
        "import numpy as np\n",
        "import sys\n",
        "from nltk.tokenize import word_tokenize\n",
        "from nltk import pos_tag\n",
        "from nltk.corpus import stopwords\n",
        "from nltk.stem import WordNetLemmatizer\n",
        "from sklearn.preprocessing import LabelEncoder\n",
        "from collections import defaultdict\n",
        "from nltk.corpus import wordnet as wn\n",
        "from sklearn.feature_extraction.text import TfidfVectorizer\n",
        "from sklearn.feature_extraction.text import TfidfTransformer\n",
        "from sklearn import model_selection, naive_bayes\n",
        "from sklearn.metrics import accuracy_score\n",
        "from sklearn.model_selection import train_test_split\n",
        "from sklearn.model_selection import KFold\n",
        "from sklearn.pipeline import Pipeline"
      ]
    },
    {
      "cell_type": "code",
      "execution_count": null,
      "metadata": {
        "id": "mL8la3HeXHBy"
      },
      "outputs": [],
      "source": [
        "data = pd.read_csv('hasil_prepros.csv')"
      ]
    },
    {
      "cell_type": "code",
      "execution_count": null,
      "metadata": {
        "colab": {
          "base_uri": "https://localhost:8080/",
          "height": 210
        },
        "id": "HWMK0rzwsvrN",
        "outputId": "7778b637-e121-4c18-f593-0a0ea9bbb105"
      },
      "outputs": [
        {
          "output_type": "execute_result",
          "data": {
            "text/plain": [
              "final_label\n",
              "positif    5436\n",
              "negatif    4150\n",
              "netral      395\n",
              "Name: count, dtype: int64"
            ],
            "text/html": [
              "<div>\n",
              "<style scoped>\n",
              "    .dataframe tbody tr th:only-of-type {\n",
              "        vertical-align: middle;\n",
              "    }\n",
              "\n",
              "    .dataframe tbody tr th {\n",
              "        vertical-align: top;\n",
              "    }\n",
              "\n",
              "    .dataframe thead th {\n",
              "        text-align: right;\n",
              "    }\n",
              "</style>\n",
              "<table border=\"1\" class=\"dataframe\">\n",
              "  <thead>\n",
              "    <tr style=\"text-align: right;\">\n",
              "      <th></th>\n",
              "      <th>count</th>\n",
              "    </tr>\n",
              "    <tr>\n",
              "      <th>final_label</th>\n",
              "      <th></th>\n",
              "    </tr>\n",
              "  </thead>\n",
              "  <tbody>\n",
              "    <tr>\n",
              "      <th>positif</th>\n",
              "      <td>5436</td>\n",
              "    </tr>\n",
              "    <tr>\n",
              "      <th>negatif</th>\n",
              "      <td>4150</td>\n",
              "    </tr>\n",
              "    <tr>\n",
              "      <th>netral</th>\n",
              "      <td>395</td>\n",
              "    </tr>\n",
              "  </tbody>\n",
              "</table>\n",
              "</div><br><label><b>dtype:</b> int64</label>"
            ]
          },
          "metadata": {},
          "execution_count": 26
        }
      ],
      "source": [
        "data['final_label'].value_counts()"
      ]
    },
    {
      "cell_type": "code",
      "execution_count": null,
      "metadata": {
        "id": "O3paE9xiwBNV"
      },
      "outputs": [],
      "source": [
        "X = data['review']\n",
        "y = data['rating']"
      ]
    },
    {
      "cell_type": "code",
      "execution_count": null,
      "metadata": {
        "id": "RNpedeMMLTd2",
        "colab": {
          "base_uri": "https://localhost:8080/"
        },
        "outputId": "2d7a4721-7760-4adc-986e-6b936c6823b7"
      },
      "outputs": [
        {
          "output_type": "stream",
          "name": "stdout",
          "text": [
            "Rata-rata Akurasi: nan\n"
          ]
        },
        {
          "output_type": "stream",
          "name": "stderr",
          "text": [
            "/usr/local/lib/python3.11/dist-packages/numpy/_core/fromnumeric.py:3596: RuntimeWarning: Mean of empty slice.\n",
            "  return _methods._mean(a, axis=axis, dtype=dtype,\n",
            "/usr/local/lib/python3.11/dist-packages/numpy/_core/_methods.py:138: RuntimeWarning: invalid value encountered in scalar divide\n",
            "  ret = ret.dtype.type(ret / rcount)\n"
          ]
        }
      ],
      "source": [
        "from sklearn.model_selection import KFold\n",
        "from sklearn.metrics import accuracy_score\n",
        "\n",
        "kf = KFold(n_splits=10, shuffle=True, random_state=42)\n",
        "scores = []\n",
        "\n",
        "print(\"Rata-rata Akurasi:\", np.mean(scores))"
      ]
    },
    {
      "cell_type": "code",
      "execution_count": null,
      "metadata": {
        "colab": {
          "base_uri": "https://localhost:8080/"
        },
        "id": "eQUALeoDLyfy",
        "outputId": "a0c4bc2d-c668-40d9-8b26-cdf13f91e4a6"
      },
      "outputs": [
        {
          "output_type": "stream",
          "name": "stdout",
          "text": [
            "TRAIN: [   1    2    4 ... 9978 9979 9980] TEST: [   0    3    8   14   23   29   31   33   35   36   39   47   50   76\n",
            "   80   88   92   96  101  103  106  107  108  119  131  135  144  169\n",
            "  245  248  251  252  259  263  265  267  274  286  290  291  303  304\n",
            "  311  315  316  318  321  330  333  335  346  349  360  367  376  381\n",
            "  388  410  416  439  447  450  457  461  474  483  487  500  510  513\n",
            "  518  532  543  563  567  568  576  577  582  586  590  592  621  623\n",
            "  624  637  647  655  668  673  683  713  733  735  742  761  764  765\n",
            "  782  789  794  795  799  850  856  872  921  932  952  958  965  970\n",
            "  971 1026 1056 1068 1071 1076 1078 1084 1087 1090 1107 1111 1112 1123\n",
            " 1145 1147 1149 1155 1156 1175 1180 1183 1190 1199 1208 1217 1224 1247\n",
            " 1253 1254 1261 1277 1310 1315 1339 1355 1360 1369 1372 1373 1393 1402\n",
            " 1408 1413 1432 1441 1446 1453 1458 1470 1472 1482 1498 1509 1512 1513\n",
            " 1516 1543 1562 1568 1576 1595 1597 1608 1616 1617 1626 1631 1650 1658\n",
            " 1660 1671 1672 1684 1691 1692 1730 1732 1746 1747 1758 1765 1768 1780\n",
            " 1785 1793 1794 1803 1807 1825 1833 1835 1862 1864 1877 1880 1886 1891\n",
            " 1901 1915 1941 1954 1957 1965 1981 2002 2012 2018 2020 2029 2030 2036\n",
            " 2039 2045 2055 2069 2072 2088 2124 2129 2138 2145 2147 2152 2157 2167\n",
            " 2168 2183 2189 2199 2213 2215 2221 2225 2232 2233 2239 2287 2288 2291\n",
            " 2303 2310 2335 2340 2344 2420 2423 2425 2453 2455 2464 2470 2478 2485\n",
            " 2492 2513 2516 2517 2540 2564 2588 2592 2602 2611 2615 2619 2625 2648\n",
            " 2650 2673 2678 2684 2688 2692 2701 2707 2742 2748 2753 2755 2760 2770\n",
            " 2833 2848 2870 2884 2885 2889 2894 2903 2906 2927 2930 2935 2960 2968\n",
            " 2982 3000 3006 3007 3011 3012 3015 3024 3027 3039 3045 3047 3050 3060\n",
            " 3078 3079 3082 3100 3107 3123 3127 3130 3139 3148 3149 3154 3172 3181\n",
            " 3194 3202 3205 3206 3207 3231 3251 3290 3297 3319 3328 3329 3334 3375\n",
            " 3387 3392 3399 3404 3411 3412 3422 3428 3433 3443 3455 3457 3459 3467\n",
            " 3482 3495 3497 3508 3526 3529 3532 3577 3582 3595 3614 3615 3685 3710\n",
            " 3720 3739 3746 3755 3771 3798 3826 3827 3838 3842 3879 3914 3933 3934\n",
            " 3941 3949 3979 3991 4004 4011 4016 4022 4024 4032 4046 4047 4048 4052\n",
            " 4071 4080 4084 4089 4094 4097 4104 4111 4112 4113 4157 4169 4180 4181\n",
            " 4196 4209 4215 4229 4237 4238 4245 4248 4264 4267 4292 4295 4301 4317\n",
            " 4328 4329 4335 4362 4367 4372 4376 4377 4385 4392 4393 4395 4398 4414\n",
            " 4420 4427 4448 4450 4453 4486 4489 4516 4518 4519 4521 4528 4539 4540\n",
            " 4554 4568 4582 4606 4613 4614 4634 4635 4665 4687 4698 4700 4702 4706\n",
            " 4716 4718 4726 4731 4747 4755 4759 4767 4786 4800 4812 4823 4826 4830\n",
            " 4836 4845 4847 4848 4866 4870 4877 4889 4890 4900 4902 4906 4922 4932\n",
            " 4936 4949 4992 4999 5020 5022 5026 5032 5049 5062 5064 5065 5072 5076\n",
            " 5095 5100 5121 5140 5143 5146 5159 5168 5192 5205 5213 5225 5239 5261\n",
            " 5271 5279 5282 5290 5298 5313 5317 5323 5333 5340 5344 5351 5364 5368\n",
            " 5369 5376 5381 5386 5391 5403 5421 5453 5455 5461 5464 5474 5479 5481\n",
            " 5484 5489 5491 5492 5527 5529 5532 5554 5556 5570 5572 5577 5580 5584\n",
            " 5601 5605 5609 5616 5638 5642 5664 5702 5707 5715 5719 5723 5735 5737\n",
            " 5743 5761 5767 5781 5795 5819 5820 5834 5839 5846 5848 5875 5912 5916\n",
            " 5918 5936 5937 5965 5968 5981 5992 6039 6051 6053 6054 6066 6067 6074\n",
            " 6083 6092 6094 6100 6103 6123 6131 6151 6175 6179 6182 6206 6211 6217\n",
            " 6220 6227 6234 6237 6239 6248 6249 6253 6255 6259 6263 6270 6289 6311\n",
            " 6334 6340 6348 6365 6394 6403 6408 6423 6427 6432 6436 6437 6438 6459\n",
            " 6461 6466 6482 6487 6491 6500 6508 6516 6518 6531 6556 6569 6571 6582\n",
            " 6586 6587 6595 6604 6618 6622 6637 6639 6641 6651 6654 6681 6682 6688\n",
            " 6691 6711 6717 6729 6749 6751 6752 6754 6768 6825 6836 6838 6843 6861\n",
            " 6870 6877 6880 6885 6887 6890 6902 6926 6930 6931 6939 6951 6952 7008\n",
            " 7015 7016 7020 7034 7039 7046 7061 7067 7070 7077 7104 7108 7110 7122\n",
            " 7148 7150 7161 7163 7173 7180 7185 7203 7207 7219 7234 7251 7252 7254\n",
            " 7260 7265 7288 7292 7324 7328 7335 7336 7337 7338 7341 7375 7377 7398\n",
            " 7403 7411 7417 7452 7453 7459 7488 7498 7507 7533 7535 7537 7538 7567\n",
            " 7568 7571 7578 7581 7601 7608 7642 7653 7660 7664 7671 7701 7729 7753\n",
            " 7754 7757 7760 7785 7794 7803 7807 7817 7835 7853 7866 7888 7908 7921\n",
            " 7931 7937 7952 7953 7959 7961 7974 7990 8003 8015 8025 8028 8033 8035\n",
            " 8039 8048 8057 8060 8062 8066 8068 8072 8074 8092 8100 8103 8112 8129\n",
            " 8139 8149 8165 8167 8168 8180 8181 8182 8187 8188 8196 8217 8221 8223\n",
            " 8225 8231 8243 8244 8246 8247 8248 8249 8255 8261 8266 8282 8298 8309\n",
            " 8323 8337 8344 8349 8354 8366 8418 8421 8431 8449 8453 8456 8468 8483\n",
            " 8493 8494 8501 8506 8507 8510 8516 8522 8544 8556 8557 8626 8642 8645\n",
            " 8665 8667 8685 8690 8710 8713 8729 8753 8758 8761 8763 8764 8775 8794\n",
            " 8816 8818 8824 8829 8863 8864 8874 8876 8877 8893 8911 8934 8954 8962\n",
            " 8975 9012 9013 9017 9031 9035 9036 9037 9038 9048 9070 9082 9084 9102\n",
            " 9130 9143 9148 9149 9150 9153 9169 9190 9193 9196 9200 9203 9220 9229\n",
            " 9254 9257 9299 9300 9311 9338 9340 9364 9380 9382 9392 9394 9429 9448\n",
            " 9453 9455 9458 9476 9490 9513 9522 9529 9530 9536 9564 9575 9579 9597\n",
            " 9598 9608 9626 9665 9671 9678 9681 9683 9697 9702 9711 9732 9746 9765\n",
            " 9766 9786 9794 9809 9814 9837 9841 9843 9850 9853 9854 9870 9874 9890\n",
            " 9908 9928 9945 9970 9974]\n",
            "TRAIN: [   0    1    2 ... 9976 9978 9980] TEST: [  10   12   17   19   20   37   58   59   93   95  132  149  157  168\n",
            "  185  210  211  212  217  221  222  233  239  292  323  334  347  353\n",
            "  379  393  394  400  408  427  440  453  462  465  467  496  509  511\n",
            "  533  538  550  554  591  594  603  605  611  617  620  625  653  676\n",
            "  696  700  705  708  710  711  712  718  724  730  736  738  743  745\n",
            "  747  758  763  766  774  828  833  837  841  852  858  866  871  879\n",
            "  883  906  908  914  927  934  940  960  964  967  994 1002 1009 1010\n",
            " 1018 1020 1022 1034 1038 1046 1057 1095 1103 1109 1113 1121 1127 1142\n",
            " 1144 1153 1162 1188 1194 1195 1197 1210 1220 1222 1245 1250 1263 1285\n",
            " 1295 1297 1313 1314 1318 1328 1330 1346 1347 1349 1383 1392 1400 1406\n",
            " 1418 1426 1429 1438 1479 1483 1488 1496 1501 1527 1530 1536 1544 1550\n",
            " 1558 1561 1569 1575 1578 1593 1599 1606 1618 1623 1642 1655 1662 1670\n",
            " 1683 1688 1702 1713 1718 1726 1731 1737 1739 1740 1741 1760 1770 1775\n",
            " 1783 1791 1795 1805 1817 1851 1888 1897 1919 1921 1923 1937 1963 2025\n",
            " 2067 2075 2098 2107 2108 2109 2110 2119 2127 2128 2133 2149 2150 2165\n",
            " 2178 2184 2191 2210 2227 2236 2245 2249 2252 2254 2260 2270 2273 2275\n",
            " 2286 2304 2316 2337 2348 2358 2360 2377 2389 2405 2412 2417 2447 2458\n",
            " 2465 2473 2474 2483 2484 2487 2498 2515 2519 2522 2531 2554 2574 2609\n",
            " 2614 2627 2638 2664 2680 2685 2689 2691 2697 2724 2751 2754 2769 2777\n",
            " 2794 2807 2816 2818 2835 2846 2855 2862 2864 2867 2868 2876 2907 2910\n",
            " 2913 2922 2926 2932 2954 2955 2956 2957 2970 2995 2996 2997 3002 3014\n",
            " 3016 3019 3026 3034 3037 3057 3058 3059 3063 3065 3071 3091 3095 3101\n",
            " 3110 3111 3122 3125 3128 3131 3133 3143 3151 3209 3235 3238 3244 3245\n",
            " 3257 3279 3284 3286 3295 3298 3307 3316 3317 3325 3333 3337 3352 3370\n",
            " 3378 3382 3383 3393 3438 3445 3458 3463 3469 3481 3485 3519 3522 3524\n",
            " 3528 3535 3538 3540 3543 3555 3597 3601 3605 3616 3620 3621 3635 3662\n",
            " 3668 3677 3686 3698 3703 3708 3723 3767 3768 3784 3799 3844 3848 3853\n",
            " 3855 3860 3872 3873 3880 3886 3887 3889 3898 3903 3905 3912 3936 3937\n",
            " 3944 3955 3964 3989 3992 4007 4012 4023 4029 4030 4035 4043 4058 4060\n",
            " 4076 4077 4081 4087 4091 4092 4110 4123 4127 4128 4130 4147 4148 4149\n",
            " 4170 4176 4184 4189 4192 4216 4217 4220 4222 4226 4228 4233 4262 4281\n",
            " 4299 4304 4321 4326 4333 4339 4341 4352 4353 4359 4366 4373 4382 4397\n",
            " 4401 4418 4421 4423 4428 4441 4459 4461 4472 4474 4475 4525 4532 4556\n",
            " 4560 4565 4587 4588 4598 4601 4604 4607 4618 4619 4625 4626 4630 4631\n",
            " 4633 4639 4667 4685 4692 4694 4696 4704 4707 4715 4722 4740 4750 4751\n",
            " 4771 4772 4779 4787 4793 4807 4808 4822 4828 4829 4842 4844 4850 4863\n",
            " 4864 4867 4872 4884 4885 4891 4903 4905 4908 4914 4923 4924 4947 4960\n",
            " 4961 4963 4977 4978 4985 5009 5018 5030 5035 5048 5070 5074 5098 5106\n",
            " 5125 5135 5137 5145 5152 5153 5157 5173 5183 5196 5216 5244 5259 5263\n",
            " 5270 5272 5286 5309 5321 5336 5357 5371 5378 5384 5399 5402 5417 5418\n",
            " 5424 5436 5471 5506 5518 5544 5547 5559 5563 5566 5581 5593 5595 5603\n",
            " 5606 5635 5651 5667 5687 5696 5703 5708 5714 5718 5729 5733 5747 5753\n",
            " 5756 5758 5762 5786 5790 5803 5814 5817 5822 5826 5828 5829 5830 5833\n",
            " 5858 5862 5868 5869 5872 5894 5956 5957 5982 5987 5990 5993 5994 6009\n",
            " 6018 6032 6045 6050 6055 6065 6080 6084 6120 6127 6128 6129 6130 6137\n",
            " 6148 6188 6200 6210 6214 6221 6224 6231 6250 6258 6307 6308 6319 6338\n",
            " 6347 6350 6351 6358 6364 6389 6390 6392 6393 6399 6426 6429 6431 6444\n",
            " 6447 6448 6449 6452 6460 6462 6464 6483 6489 6504 6507 6510 6513 6532\n",
            " 6539 6557 6572 6589 6607 6625 6632 6646 6647 6649 6680 6685 6715 6718\n",
            " 6719 6720 6723 6739 6772 6786 6792 6798 6802 6804 6814 6831 6832 6837\n",
            " 6842 6859 6860 6871 6875 6876 6878 6889 6903 6915 6918 6940 6959 6968\n",
            " 6973 6982 6991 7037 7044 7048 7049 7054 7068 7087 7092 7144 7145 7169\n",
            " 7176 7178 7188 7198 7201 7205 7222 7231 7238 7261 7275 7302 7308 7331\n",
            " 7333 7356 7358 7359 7365 7367 7374 7388 7396 7414 7416 7425 7434 7435\n",
            " 7458 7460 7461 7466 7476 7480 7492 7493 7496 7501 7503 7517 7524 7525\n",
            " 7530 7532 7558 7579 7580 7582 7584 7591 7605 7613 7616 7620 7627 7628\n",
            " 7630 7632 7636 7645 7654 7658 7695 7698 7702 7749 7751 7752 7759 7766\n",
            " 7767 7770 7780 7810 7812 7814 7828 7839 7845 7847 7855 7876 7883 7893\n",
            " 7895 7922 7929 7930 7942 7950 7965 7972 7983 8027 8034 8040 8063 8069\n",
            " 8075 8081 8085 8095 8117 8138 8160 8166 8176 8183 8191 8200 8203 8204\n",
            " 8209 8211 8216 8224 8242 8260 8263 8267 8273 8287 8293 8296 8324 8348\n",
            " 8353 8364 8385 8386 8391 8403 8422 8437 8440 8460 8463 8470 8474 8485\n",
            " 8496 8528 8542 8552 8553 8558 8562 8568 8575 8578 8581 8589 8596 8600\n",
            " 8629 8632 8634 8678 8697 8698 8699 8704 8711 8738 8740 8743 8767 8785\n",
            " 8805 8806 8811 8828 8833 8840 8846 8861 8871 8879 8904 8927 8929 8947\n",
            " 8952 8955 8979 9009 9021 9022 9025 9030 9032 9078 9098 9113 9124 9126\n",
            " 9140 9142 9144 9147 9155 9156 9168 9172 9175 9176 9182 9188 9228 9231\n",
            " 9236 9256 9309 9320 9328 9334 9372 9381 9385 9388 9396 9401 9414 9418\n",
            " 9427 9441 9443 9481 9491 9494 9495 9511 9525 9545 9547 9560 9569 9591\n",
            " 9601 9639 9645 9647 9656 9658 9682 9714 9726 9730 9734 9749 9753 9764\n",
            " 9767 9772 9815 9824 9827 9838 9851 9858 9881 9884 9902 9909 9923 9943\n",
            " 9946 9955 9977 9979]\n",
            "TRAIN: [   0    1    2 ... 9978 9979 9980] TEST: [  30   41   45   46   48   56   61   65   68   69   70   73   79   81\n",
            "   87   99  102  104  111  118  164  172  177  180  181  196  199  209\n",
            "  214  218  229  230  247  254  257  288  308  319  328  332  337  350\n",
            "  354  372  385  401  402  403  409  411  415  420  429  432  433  435\n",
            "  445  449  455  472  473  476  477  485  503  524  528  540  544  551\n",
            "  564  579  601  604  613  618  654  664  675  678  682  693  706  715\n",
            "  737  740  744  748  749  753  754  759  777  779  800  809  810  811\n",
            "  821  831  834  835  862  868  877  880  881  947  957  982  997 1005\n",
            " 1017 1027 1042 1044 1052 1053 1055 1061 1074 1075 1101 1115 1126 1139\n",
            " 1166 1168 1176 1193 1201 1204 1219 1226 1233 1244 1278 1280 1281 1282\n",
            " 1287 1298 1320 1322 1323 1329 1334 1345 1354 1362 1374 1379 1385 1396\n",
            " 1405 1414 1416 1417 1419 1421 1430 1437 1443 1444 1452 1456 1467 1468\n",
            " 1477 1491 1502 1533 1557 1559 1565 1570 1579 1582 1586 1600 1603 1614\n",
            " 1615 1624 1643 1649 1656 1659 1665 1699 1701 1720 1721 1728 1729 1743\n",
            " 1745 1790 1832 1834 1839 1840 1844 1860 1918 1922 1928 1934 1945 1947\n",
            " 1962 1978 1982 1992 1995 2004 2006 2008 2013 2022 2034 2054 2057 2058\n",
            " 2063 2083 2084 2087 2089 2094 2111 2114 2115 2122 2132 2142 2164 2175\n",
            " 2214 2228 2231 2246 2248 2251 2264 2268 2272 2299 2301 2302 2319 2328\n",
            " 2362 2373 2375 2388 2392 2399 2406 2407 2413 2436 2439 2441 2446 2456\n",
            " 2471 2486 2510 2523 2526 2533 2534 2542 2543 2545 2571 2586 2603 2620\n",
            " 2623 2631 2636 2651 2663 2682 2698 2715 2718 2726 2729 2732 2737 2750\n",
            " 2758 2759 2766 2771 2802 2820 2826 2830 2840 2859 2874 2880 2882 2886\n",
            " 2908 2943 2945 2948 2963 2973 2991 3017 3018 3021 3023 3025 3032 3033\n",
            " 3038 3043 3044 3053 3055 3064 3077 3080 3090 3094 3105 3118 3126 3132\n",
            " 3145 3160 3187 3204 3208 3210 3263 3265 3272 3274 3288 3299 3312 3314\n",
            " 3320 3338 3350 3351 3396 3397 3400 3405 3424 3429 3434 3448 3464 3465\n",
            " 3470 3501 3502 3509 3527 3533 3541 3544 3548 3574 3602 3625 3643 3646\n",
            " 3647 3649 3651 3653 3656 3660 3666 3680 3684 3688 3689 3704 3706 3707\n",
            " 3721 3728 3742 3745 3749 3753 3761 3773 3774 3777 3785 3787 3790 3813\n",
            " 3817 3834 3852 3857 3881 3891 3909 3931 3942 3952 3963 3971 3973 3995\n",
            " 3999 4001 4028 4031 4064 4067 4074 4098 4102 4115 4119 4121 4122 4161\n",
            " 4165 4193 4239 4250 4254 4270 4273 4303 4309 4313 4315 4336 4344 4354\n",
            " 4355 4368 4371 4375 4379 4394 4404 4411 4415 4438 4442 4463 4467 4476\n",
            " 4480 4502 4504 4509 4513 4514 4533 4534 4535 4537 4553 4564 4572 4580\n",
            " 4602 4617 4623 4629 4641 4649 4657 4681 4684 4686 4693 4710 4734 4738\n",
            " 4766 4773 4775 4794 4797 4801 4813 4816 4843 4852 4860 4881 4901 4921\n",
            " 4929 4934 4955 4957 4974 5011 5013 5015 5019 5023 5044 5053 5081 5090\n",
            " 5094 5112 5130 5138 5180 5204 5211 5212 5214 5228 5235 5245 5246 5254\n",
            " 5264 5267 5273 5288 5300 5326 5327 5328 5349 5354 5359 5362 5365 5375\n",
            " 5377 5396 5397 5400 5431 5440 5446 5447 5458 5459 5496 5504 5505 5507\n",
            " 5515 5517 5522 5537 5538 5550 5608 5623 5640 5652 5662 5669 5689 5694\n",
            " 5705 5709 5710 5727 5740 5746 5749 5763 5775 5792 5853 5857 5905 5908\n",
            " 5910 5914 5920 5921 5933 5950 5955 5961 5963 5967 5969 5972 6004 6005\n",
            " 6010 6043 6057 6072 6077 6086 6096 6110 6111 6113 6121 6125 6160 6162\n",
            " 6167 6176 6177 6187 6189 6191 6192 6193 6196 6252 6260 6266 6275 6282\n",
            " 6296 6297 6314 6329 6333 6336 6341 6366 6378 6383 6386 6395 6400 6424\n",
            " 6428 6443 6478 6481 6495 6497 6498 6503 6517 6520 6522 6535 6536 6545\n",
            " 6551 6554 6558 6568 6594 6597 6601 6611 6613 6623 6631 6653 6660 6663\n",
            " 6713 6746 6762 6765 6771 6778 6781 6785 6790 6791 6797 6811 6818 6820\n",
            " 6835 6839 6853 6855 6856 6858 6862 6865 6874 6897 6922 6927 6932 6945\n",
            " 6956 6961 6964 6972 6990 7013 7024 7033 7036 7040 7050 7063 7072 7076\n",
            " 7078 7100 7103 7113 7139 7152 7157 7181 7189 7191 7195 7199 7200 7204\n",
            " 7216 7228 7229 7249 7262 7281 7307 7310 7346 7348 7360 7361 7363 7389\n",
            " 7432 7436 7439 7445 7448 7454 7474 7477 7502 7506 7510 7515 7516 7536\n",
            " 7553 7573 7586 7590 7612 7614 7647 7661 7681 7682 7703 7704 7708 7712\n",
            " 7747 7750 7768 7775 7793 7809 7815 7820 7829 7871 7886 7890 7925 7927\n",
            " 7932 7960 7968 7978 7981 7985 7995 8013 8019 8021 8037 8043 8084 8089\n",
            " 8094 8104 8107 8119 8123 8137 8141 8148 8159 8170 8174 8239 8240 8253\n",
            " 8262 8264 8271 8276 8310 8312 8316 8325 8342 8343 8347 8365 8375 8376\n",
            " 8380 8388 8398 8420 8458 8461 8471 8475 8490 8499 8508 8514 8520 8521\n",
            " 8537 8540 8548 8550 8555 8560 8565 8587 8593 8598 8599 8604 8610 8612\n",
            " 8630 8637 8641 8650 8656 8660 8682 8683 8686 8718 8725 8727 8728 8731\n",
            " 8732 8733 8737 8744 8773 8781 8790 8796 8802 8809 8849 8851 8852 8862\n",
            " 8891 8896 8902 8903 8912 8922 8926 8938 8943 8965 8981 8982 8987 8993\n",
            " 8994 8999 9000 9008 9033 9045 9046 9050 9051 9066 9067 9069 9073 9075\n",
            " 9088 9094 9096 9112 9116 9125 9131 9133 9137 9157 9158 9161 9162 9171\n",
            " 9174 9184 9185 9191 9192 9197 9242 9255 9261 9294 9312 9319 9321 9325\n",
            " 9333 9350 9352 9387 9399 9411 9431 9436 9449 9472 9480 9497 9501 9516\n",
            " 9517 9518 9519 9532 9538 9556 9573 9581 9585 9590 9594 9599 9600 9603\n",
            " 9610 9611 9620 9624 9649 9662 9667 9685 9716 9720 9727 9742 9747 9771\n",
            " 9779 9784 9813 9823 9832 9856 9862 9864 9866 9867 9869 9894 9898 9905\n",
            " 9916 9929 9956 9958]\n",
            "TRAIN: [   0    1    2 ... 9978 9979 9980] TEST: [  26   27   51   57   63   91  100  110  121  122  151  156  167  176\n",
            "  178  179  188  198  208  216  220  227  228  231  295  296  300  324\n",
            "  326  344  351  378  397  414  425  426  428  434  437  463  468  469\n",
            "  471  478  480  486  491  495  527  530  534  535  547  548  549  555\n",
            "  561  565  573  585  616  622  626  633  641  642  648  665  681  694\n",
            "  701  722  734  750  751  752  756  773  786  787  798  801  805  812\n",
            "  815  842  847  865  893  898  901  916  937  938  981  996 1004 1024\n",
            " 1025 1030 1033 1039 1041 1047 1082 1092 1097 1108 1118 1128 1129 1146\n",
            " 1152 1157 1160 1163 1172 1173 1174 1181 1189 1203 1212 1215 1221 1223\n",
            " 1242 1259 1302 1317 1321 1335 1340 1350 1351 1352 1359 1370 1375 1407\n",
            " 1410 1412 1420 1425 1427 1433 1434 1454 1465 1469 1480 1487 1489 1490\n",
            " 1507 1511 1515 1532 1535 1545 1554 1566 1583 1584 1598 1612 1632 1669\n",
            " 1677 1680 1681 1703 1710 1722 1738 1744 1754 1755 1777 1786 1797 1808\n",
            " 1811 1820 1831 1850 1858 1867 1870 1871 1882 1894 1905 1916 1926 1935\n",
            " 1940 1951 1952 1964 1971 1983 1984 1989 2024 2061 2112 2121 2126 2131\n",
            " 2134 2144 2154 2166 2173 2177 2201 2208 2212 2223 2234 2244 2262 2263\n",
            " 2266 2271 2276 2296 2298 2312 2314 2317 2318 2321 2332 2333 2351 2354\n",
            " 2372 2374 2391 2404 2449 2481 2495 2499 2508 2514 2518 2521 2532 2548\n",
            " 2549 2550 2569 2572 2576 2577 2579 2580 2582 2589 2595 2598 2605 2622\n",
            " 2626 2628 2629 2637 2641 2644 2647 2676 2683 2699 2706 2716 2728 2741\n",
            " 2762 2793 2795 2812 2815 2825 2836 2847 2858 2861 2865 2879 2881 2883\n",
            " 2888 2899 2900 2905 2917 2918 2919 2921 2929 2933 2939 2944 2952 2984\n",
            " 2987 2992 3001 3003 3022 3031 3035 3068 3070 3085 3098 3106 3114 3142\n",
            " 3146 3150 3153 3159 3161 3165 3166 3169 3184 3185 3233 3248 3254 3260\n",
            " 3269 3280 3281 3282 3283 3296 3305 3309 3315 3332 3344 3349 3353 3355\n",
            " 3369 3379 3381 3401 3410 3413 3418 3437 3454 3460 3461 3473 3487 3518\n",
            " 3520 3534 3542 3550 3566 3570 3578 3592 3593 3609 3617 3624 3639 3658\n",
            " 3661 3673 3692 3693 3717 3729 3772 3776 3781 3782 3794 3795 3815 3819\n",
            " 3833 3837 3846 3859 3869 3870 3884 3885 3894 3902 3910 3918 3921 3928\n",
            " 3945 3946 3948 3960 3984 3994 3997 4002 4003 4010 4038 4049 4053 4055\n",
            " 4065 4075 4099 4100 4129 4132 4139 4140 4156 4162 4174 4185 4190 4191\n",
            " 4194 4201 4202 4205 4210 4224 4230 4241 4246 4252 4253 4265 4269 4271\n",
            " 4275 4279 4284 4288 4291 4294 4302 4332 4337 4338 4342 4343 4345 4347\n",
            " 4350 4374 4381 4386 4403 4407 4417 4419 4429 4436 4469 4477 4484 4503\n",
            " 4505 4510 4522 4541 4549 4573 4575 4584 4586 4593 4597 4608 4609 4622\n",
            " 4645 4656 4661 4680 4682 4695 4708 4742 4762 4768 4783 4789 4802 4803\n",
            " 4817 4825 4827 4832 4833 4856 4883 4894 4896 4898 4913 4938 4942 4952\n",
            " 4965 4975 4981 4983 4984 4989 4993 4995 5003 5006 5012 5028 5033 5050\n",
            " 5058 5060 5079 5082 5092 5118 5123 5128 5133 5144 5148 5156 5169 5170\n",
            " 5181 5186 5193 5210 5217 5226 5231 5250 5262 5274 5284 5289 5296 5303\n",
            " 5304 5306 5338 5350 5358 5361 5363 5379 5395 5406 5412 5419 5426 5427\n",
            " 5441 5457 5467 5493 5500 5549 5551 5576 5579 5597 5613 5628 5646 5649\n",
            " 5660 5665 5666 5676 5681 5684 5688 5700 5712 5728 5730 5748 5764 5766\n",
            " 5769 5799 5804 5805 5815 5824 5856 5859 5865 5873 5884 5893 5900 5903\n",
            " 5911 5924 5927 5928 5953 5958 5960 5998 6006 6008 6017 6027 6030 6033\n",
            " 6060 6062 6081 6112 6117 6134 6135 6147 6169 6170 6181 6199 6203 6209\n",
            " 6213 6216 6242 6245 6247 6264 6271 6277 6306 6325 6330 6367 6418 6421\n",
            " 6454 6458 6463 6476 6485 6492 6521 6547 6584 6605 6608 6648 6650 6664\n",
            " 6666 6670 6672 6673 6714 6730 6735 6753 6810 6817 6826 6827 6830 6834\n",
            " 6849 6864 6872 6883 6908 6912 6913 6914 6916 6925 6929 6933 6948 6953\n",
            " 6954 6955 6969 6994 6995 6997 7025 7030 7073 7086 7090 7106 7107 7129\n",
            " 7132 7142 7146 7159 7170 7172 7202 7211 7212 7220 7226 7237 7244 7250\n",
            " 7255 7256 7263 7313 7320 7322 7325 7342 7355 7364 7369 7371 7407 7410\n",
            " 7450 7464 7470 7475 7478 7485 7487 7529 7531 7565 7588 7589 7592 7598\n",
            " 7599 7611 7675 7691 7692 7716 7718 7722 7724 7727 7731 7733 7735 7762\n",
            " 7763 7764 7765 7771 7781 7787 7808 7816 7825 7837 7838 7841 7846 7856\n",
            " 7872 7874 7881 7887 7889 7897 7899 7910 7915 7920 7938 7946 7949 7954\n",
            " 7957 7991 8020 8029 8042 8067 8079 8093 8106 8127 8132 8140 8158 8163\n",
            " 8177 8184 8197 8218 8233 8237 8251 8268 8277 8283 8285 8302 8303 8314\n",
            " 8345 8346 8355 8359 8367 8396 8399 8401 8405 8408 8411 8413 8419 8423\n",
            " 8426 8443 8451 8452 8479 8480 8481 8489 8497 8500 8504 8505 8511 8515\n",
            " 8526 8531 8538 8547 8563 8566 8569 8591 8608 8652 8653 8654 8670 8672\n",
            " 8676 8707 8714 8747 8749 8759 8760 8769 8791 8797 8814 8827 8831 8836\n",
            " 8845 8858 8859 8878 8883 8892 8897 8906 8928 8940 8950 8956 8961 8968\n",
            " 8972 8977 8992 9001 9024 9043 9049 9057 9068 9077 9079 9092 9110 9122\n",
            " 9136 9159 9164 9170 9177 9180 9195 9206 9214 9216 9217 9219 9224 9232\n",
            " 9237 9239 9240 9249 9250 9259 9260 9266 9279 9280 9290 9316 9317 9324\n",
            " 9343 9353 9360 9383 9391 9393 9404 9410 9413 9416 9442 9454 9459 9471\n",
            " 9477 9486 9507 9514 9535 9543 9562 9571 9580 9582 9592 9614 9642 9657\n",
            " 9659 9663 9673 9684 9705 9706 9707 9715 9722 9735 9744 9752 9760 9761\n",
            " 9777 9780 9807 9808 9836 9871 9877 9885 9891 9893 9895 9911 9915 9920\n",
            " 9922 9937 9940 9966]\n",
            "TRAIN: [   0    1    2 ... 9978 9979 9980] TEST: [  15   28   34   44   75   84   90  124  128  129  142  143  170  171\n",
            "  183  184  223  240  242  268  272  273  275  279  284  287  293  297\n",
            "  307  310  312  314  320  322  325  327  336  339  348  366  371  373\n",
            "  375  380  387  418  421  422  430  438  443  452  479  494  497  501\n",
            "  505  506  507  553  558  584  588  589  598  599  627  640  652  657\n",
            "  662  672  677  684  691  704  709  721  725  732  746  755  757  783\n",
            "  790  797  807  808  813  826  829  838  843  849  864  870  886  889\n",
            "  890  896  904  907  911  912  915  925  926  931  961  969  977  978\n",
            "  983  993 1001 1003 1008 1032 1049 1051 1073 1079 1086 1117 1119 1131\n",
            " 1158 1161 1164 1170 1182 1186 1187 1192 1209 1211 1225 1231 1235 1251\n",
            " 1260 1268 1269 1270 1272 1273 1292 1305 1332 1344 1357 1366 1371 1384\n",
            " 1397 1398 1411 1423 1436 1450 1451 1462 1464 1471 1475 1485 1499 1504\n",
            " 1506 1514 1520 1534 1539 1541 1547 1553 1563 1564 1580 1590 1609 1611\n",
            " 1620 1634 1652 1654 1657 1690 1694 1706 1711 1714 1748 1756 1773 1782\n",
            " 1784 1789 1799 1801 1806 1848 1859 1869 1872 1876 1883 1893 1902 1912\n",
            " 1944 1956 1961 1966 1972 1973 1975 1977 1979 2017 2028 2031 2035 2042\n",
            " 2059 2076 2077 2080 2081 2091 2095 2099 2117 2118 2123 2146 2155 2163\n",
            " 2170 2181 2182 2185 2197 2206 2209 2226 2229 2237 2280 2283 2284 2300\n",
            " 2306 2313 2338 2345 2350 2357 2363 2364 2397 2398 2402 2415 2418 2431\n",
            " 2432 2445 2457 2462 2476 2488 2537 2553 2570 2578 2585 2639 2646 2653\n",
            " 2656 2662 2669 2670 2705 2709 2722 2746 2756 2764 2776 2778 2796 2799\n",
            " 2805 2809 2821 2829 2842 2845 2851 2853 2860 2887 2893 2897 2925 2937\n",
            " 2938 2941 2965 2966 2985 2986 2988 2999 3049 3066 3076 3087 3092 3096\n",
            " 3102 3113 3121 3129 3164 3176 3182 3188 3195 3213 3214 3217 3246 3256\n",
            " 3261 3268 3289 3301 3303 3308 3322 3341 3346 3357 3358 3362 3364 3365\n",
            " 3367 3371 3377 3395 3409 3416 3441 3477 3478 3479 3480 3498 3503 3514\n",
            " 3558 3567 3569 3573 3580 3589 3590 3608 3623 3626 3681 3715 3733 3734\n",
            " 3780 3783 3791 3803 3806 3820 3836 3847 3861 3862 3892 3908 3916 3924\n",
            " 3932 3939 3950 3956 3957 3961 3962 3968 3969 3977 3980 3981 3985 3990\n",
            " 4013 4019 4039 4041 4042 4050 4051 4054 4056 4057 4062 4069 4078 4085\n",
            " 4101 4103 4125 4141 4151 4159 4198 4204 4231 4235 4240 4247 4277 4280\n",
            " 4296 4298 4306 4319 4322 4323 4348 4387 4412 4416 4439 4447 4454 4464\n",
            " 4466 4471 4483 4506 4511 4512 4527 4561 4562 4567 4574 4610 4638 4640\n",
            " 4651 4660 4668 4671 4672 4689 4701 4705 4709 4712 4720 4721 4730 4745\n",
            " 4756 4763 4765 4770 4782 4791 4792 4818 4819 4824 4834 4838 4851 4861\n",
            " 4862 4868 4871 4879 4880 4899 4907 4918 4919 4950 4972 4982 5007 5014\n",
            " 5027 5034 5046 5067 5071 5111 5114 5117 5120 5129 5151 5155 5162 5165\n",
            " 5171 5190 5198 5199 5202 5206 5215 5221 5224 5227 5229 5234 5265 5266\n",
            " 5268 5269 5277 5278 5281 5292 5294 5316 5325 5331 5339 5356 5382 5389\n",
            " 5405 5407 5414 5422 5425 5428 5434 5438 5454 5466 5470 5473 5477 5487\n",
            " 5501 5502 5503 5508 5552 5558 5573 5583 5589 5594 5610 5614 5615 5627\n",
            " 5632 5641 5653 5657 5663 5674 5711 5716 5731 5768 5785 5802 5809 5816\n",
            " 5821 5825 5838 5840 5849 5852 5861 5866 5874 5876 5882 5896 5902 5909\n",
            " 5922 5935 5940 5944 5970 5979 5980 5983 6001 6014 6022 6025 6029 6037\n",
            " 6058 6069 6070 6085 6088 6095 6101 6104 6105 6107 6109 6118 6119 6141\n",
            " 6145 6156 6180 6194 6201 6202 6215 6223 6225 6243 6291 6301 6312 6322\n",
            " 6343 6349 6355 6360 6380 6384 6388 6391 6405 6407 6409 6414 6417 6419\n",
            " 6422 6425 6433 6440 6453 6455 6475 6496 6502 6505 6523 6533 6537 6543\n",
            " 6550 6552 6553 6561 6567 6575 6580 6615 6624 6627 6630 6642 6690 6695\n",
            " 6696 6700 6707 6743 6750 6759 6773 6789 6794 6800 6805 6815 6821 6824\n",
            " 6846 6848 6850 6851 6888 6901 6909 6920 6935 6942 6947 6950 6962 6967\n",
            " 6975 6978 6983 7001 7012 7032 7038 7053 7058 7064 7066 7075 7084 7091\n",
            " 7095 7118 7120 7134 7162 7171 7194 7197 7209 7223 7289 7299 7306 7323\n",
            " 7329 7334 7352 7382 7387 7391 7393 7420 7423 7438 7442 7447 7457 7462\n",
            " 7465 7505 7518 7520 7528 7542 7551 7562 7563 7566 7593 7597 7615 7619\n",
            " 7623 7626 7631 7639 7646 7672 7678 7696 7699 7706 7710 7719 7739 7744\n",
            " 7748 7769 7774 7784 7791 7797 7811 7821 7823 7854 7862 7865 7875 7879\n",
            " 7909 7912 7926 7958 7997 7999 8001 8008 8014 8016 8022 8031 8036 8047\n",
            " 8051 8059 8061 8076 8077 8078 8080 8088 8090 8091 8101 8114 8116 8121\n",
            " 8136 8144 8145 8171 8186 8275 8286 8288 8291 8299 8332 8333 8336 8350\n",
            " 8361 8374 8390 8395 8409 8429 8439 8482 8486 8491 8513 8564 8594 8601\n",
            " 8602 8607 8611 8618 8620 8625 8639 8640 8671 8706 8708 8719 8722 8723\n",
            " 8734 8742 8746 8751 8765 8768 8774 8776 8778 8779 8841 8847 8848 8850\n",
            " 8855 8857 8868 8869 8880 8887 8894 8910 8921 8939 8964 8970 9006 9018\n",
            " 9019 9023 9028 9029 9047 9065 9081 9083 9095 9097 9104 9105 9107 9118\n",
            " 9139 9194 9198 9205 9221 9241 9246 9253 9269 9272 9286 9298 9301 9307\n",
            " 9327 9336 9341 9344 9355 9357 9373 9378 9422 9433 9440 9445 9457 9465\n",
            " 9470 9478 9483 9493 9498 9502 9503 9505 9521 9539 9541 9544 9551 9552\n",
            " 9554 9574 9576 9588 9589 9602 9612 9625 9628 9629 9630 9643 9650 9652\n",
            " 9655 9675 9696 9713 9724 9743 9750 9755 9756 9759 9770 9774 9776 9783\n",
            " 9788 9790 9797 9834 9860 9868 9880 9886 9889 9896 9901 9903 9904 9921\n",
            " 9924 9934 9942 9954]\n",
            "TRAIN: [   0    1    3 ... 9978 9979 9980] TEST: [   2   42   43   49   53   62   71   82   86  109  112  113  114  120\n",
            "  127  134  136  139  146  150  152  160  165  166  174  175  186  191\n",
            "  192  195  203  205  219  238  250  253  270  278  283  289  298  305\n",
            "  309  368  383  389  444  446  451  489  493  498  508  516  517  520\n",
            "  531  566  570  596  602  607  609  615  636  644  649  650  658  670\n",
            "  679  680  690  720  731  741  762  776  802  803  816  820  844  848\n",
            "  857  859  861  884  887  897  903  919  941  944  945  949  975  990\n",
            "  991  992  999 1006 1014 1029 1036 1083 1093 1094 1096 1099 1104 1114\n",
            " 1135 1151 1200 1230 1234 1255 1258 1262 1271 1288 1289 1293 1294 1319\n",
            " 1327 1337 1338 1358 1361 1363 1364 1415 1424 1445 1448 1473 1476 1493\n",
            " 1503 1505 1518 1526 1538 1551 1574 1596 1621 1630 1637 1647 1661 1666\n",
            " 1675 1695 1700 1705 1717 1736 1752 1769 1779 1788 1813 1818 1822 1824\n",
            " 1830 1837 1849 1857 1873 1874 1879 1881 1892 1903 1907 1911 1914 1920\n",
            " 1924 1942 1955 1987 1988 1993 2040 2053 2068 2086 2093 2103 2104 2135\n",
            " 2153 2187 2195 2202 2240 2250 2253 2258 2259 2292 2294 2305 2308 2323\n",
            " 2330 2339 2346 2347 2366 2370 2378 2386 2387 2410 2411 2414 2424 2434\n",
            " 2435 2438 2440 2463 2467 2477 2480 2505 2506 2509 2535 2536 2552 2559\n",
            " 2561 2565 2575 2584 2594 2596 2600 2607 2616 2617 2618 2621 2633 2640\n",
            " 2642 2654 2666 2677 2687 2690 2700 2704 2727 2730 2735 2749 2761 2763\n",
            " 2773 2775 2781 2784 2789 2798 2804 2827 2843 2850 2854 2873 2877 2890\n",
            " 2892 2902 2904 2912 2915 2916 2934 2942 2949 2971 2972 2977 2981 2994\n",
            " 3010 3046 3074 3075 3089 3103 3109 3120 3135 3156 3163 3168 3183 3193\n",
            " 3196 3197 3199 3203 3218 3221 3222 3226 3240 3250 3252 3255 3258 3262\n",
            " 3277 3278 3293 3340 3347 3360 3366 3386 3388 3406 3407 3408 3439 3442\n",
            " 3450 3474 3475 3484 3491 3494 3504 3505 3513 3515 3521 3539 3545 3551\n",
            " 3552 3554 3560 3571 3587 3599 3611 3612 3613 3622 3641 3663 3664 3682\n",
            " 3722 3731 3751 3757 3765 3770 3779 3792 3801 3805 3811 3816 3821 3832\n",
            " 3849 3856 3865 3875 3877 3882 3901 3907 3915 3922 3927 3951 3966 3978\n",
            " 3982 4015 4017 4027 4034 4059 4068 4086 4106 4108 4120 4126 4131 4134\n",
            " 4145 4160 4166 4168 4173 4195 4207 4251 4276 4287 4290 4307 4310 4314\n",
            " 4325 4331 4334 4370 4383 4390 4391 4396 4400 4405 4408 4409 4434 4446\n",
            " 4455 4456 4460 4462 4478 4482 4487 4490 4498 4507 4508 4515 4520 4538\n",
            " 4546 4550 4559 4570 4581 4591 4594 4595 4603 4620 4655 4659 4663 4664\n",
            " 4678 4690 4691 4717 4723 4739 4749 4753 4764 4769 4776 4785 4814 4821\n",
            " 4840 4855 4886 4920 4925 4927 4933 4937 4939 4951 4953 4970 4986 4988\n",
            " 4990 4994 4996 4997 5021 5039 5040 5041 5045 5057 5059 5069 5089 5096\n",
            " 5097 5103 5107 5119 5131 5164 5167 5197 5247 5253 5255 5257 5260 5283\n",
            " 5285 5307 5308 5310 5312 5314 5318 5324 5332 5337 5353 5360 5388 5398\n",
            " 5404 5411 5430 5437 5444 5452 5456 5460 5465 5478 5485 5488 5497 5516\n",
            " 5521 5528 5531 5533 5545 5555 5562 5564 5568 5587 5599 5612 5617 5620\n",
            " 5629 5630 5633 5634 5639 5648 5650 5654 5679 5680 5682 5695 5697 5698\n",
            " 5706 5736 5739 5741 5754 5770 5780 5794 5798 5807 5812 5813 5831 5836\n",
            " 5837 5841 5843 5851 5860 5863 5885 5898 5899 5931 5938 5942 5945 5952\n",
            " 5964 5974 5991 6000 6003 6013 6021 6041 6061 6064 6071 6073 6076 6079\n",
            " 6087 6098 6108 6114 6126 6138 6149 6152 6153 6157 6159 6161 6163 6173\n",
            " 6178 6204 6226 6240 6244 6273 6300 6310 6315 6323 6324 6328 6332 6369\n",
            " 6373 6377 6382 6385 6410 6412 6434 6435 6451 6473 6474 6499 6501 6512\n",
            " 6515 6559 6560 6576 6577 6590 6593 6621 6634 6658 6678 6686 6687 6689\n",
            " 6692 6698 6699 6705 6706 6708 6712 6725 6727 6728 6740 6742 6755 6756\n",
            " 6758 6760 6769 6779 6795 6803 6808 6828 6840 6847 6866 6879 6884 6896\n",
            " 6906 6923 6934 6958 6974 6977 6984 6987 6989 6992 7006 7011 7017 7018\n",
            " 7028 7047 7065 7074 7082 7109 7111 7116 7143 7155 7156 7168 7217 7224\n",
            " 7233 7235 7243 7248 7258 7273 7282 7290 7293 7305 7309 7316 7317 7332\n",
            " 7344 7354 7362 7366 7381 7386 7402 7413 7422 7430 7433 7440 7441 7444\n",
            " 7463 7482 7484 7495 7545 7548 7550 7557 7572 7585 7607 7609 7618 7625\n",
            " 7635 7637 7640 7649 7677 7684 7685 7688 7690 7700 7711 7713 7726 7728\n",
            " 7732 7738 7746 7773 7778 7779 7792 7799 7801 7818 7822 7826 7840 7844\n",
            " 7851 7861 7873 7880 7894 7907 7914 7917 7918 7919 7928 7963 7966 7976\n",
            " 7993 8009 8052 8054 8065 8071 8098 8108 8109 8115 8128 8131 8134 8147\n",
            " 8153 8178 8179 8192 8193 8198 8210 8229 8256 8257 8259 8265 8278 8281\n",
            " 8284 8292 8295 8297 8300 8334 8362 8369 8379 8382 8383 8384 8414 8430\n",
            " 8444 8455 8478 8484 8488 8495 8498 8509 8517 8518 8523 8525 8545 8570\n",
            " 8576 8579 8583 8586 8597 8605 8616 8622 8631 8638 8648 8651 8657 8658\n",
            " 8673 8687 8688 8692 8696 8712 8724 8726 8750 8771 8777 8803 8807 8817\n",
            " 8825 8832 8842 8854 8860 8884 8885 8889 8890 8895 8909 8917 8923 8925\n",
            " 8935 8937 8946 8948 8951 8957 8974 8978 8984 8998 9004 9020 9042 9074\n",
            " 9114 9117 9121 9123 9132 9135 9187 9199 9223 9226 9227 9235 9244 9264\n",
            " 9281 9282 9285 9297 9305 9326 9329 9335 9356 9366 9386 9402 9405 9408\n",
            " 9420 9456 9463 9473 9475 9487 9499 9572 9577 9609 9615 9617 9619 9622\n",
            " 9627 9636 9653 9668 9669 9693 9694 9695 9698 9699 9710 9718 9725 9731\n",
            " 9751 9806 9811 9821 9825 9828 9840 9844 9861 9878 9939 9941 9944 9947\n",
            " 9950 9961 9971 9976]\n",
            "TRAIN: [   0    1    2 ... 9977 9978 9979] TEST: [   6   18   24   25   32   52   83   85  115  123  138  159  173  182\n",
            "  187  193  194  200  201  215  234  244  256  266  276  299  331  355\n",
            "  356  357  358  382  386  396  413  436  442  470  490  492  515  519\n",
            "  557  578  628  643  656  674  692  695  719  729  739  771  785  796\n",
            "  817  818  869  873  885  888  902  909  910  913  929  939  942  946\n",
            "  972  973  979  989  998 1023 1035 1054 1064 1088 1102 1105 1106 1110\n",
            " 1116 1130 1134 1137 1140 1141 1159 1178 1185 1196 1207 1213 1216 1227\n",
            " 1228 1236 1237 1238 1257 1264 1275 1303 1307 1309 1325 1356 1378 1381\n",
            " 1391 1399 1401 1439 1455 1457 1461 1463 1474 1478 1497 1510 1519 1522\n",
            " 1546 1548 1552 1556 1572 1587 1588 1589 1592 1610 1627 1628 1629 1635\n",
            " 1644 1673 1676 1696 1697 1708 1723 1751 1767 1772 1774 1776 1800 1809\n",
            " 1812 1815 1819 1829 1842 1845 1846 1847 1856 1863 1866 1878 1889 1890\n",
            " 1896 1909 1932 1936 1943 1946 1948 1968 1996 1999 2001 2005 2007 2011\n",
            " 2015 2016 2019 2021 2038 2041 2046 2052 2070 2073 2078 2092 2100 2101\n",
            " 2140 2151 2158 2161 2169 2172 2174 2176 2186 2188 2194 2207 2217 2218\n",
            " 2222 2224 2235 2241 2242 2261 2277 2282 2309 2311 2329 2341 2342 2369\n",
            " 2380 2384 2390 2394 2395 2409 2416 2422 2429 2437 2450 2451 2459 2490\n",
            " 2497 2500 2503 2525 2566 2587 2606 2624 2652 2655 2658 2660 2668 2671\n",
            " 2686 2694 2702 2714 2721 2765 2767 2780 2783 2787 2788 2792 2800 2801\n",
            " 2803 2819 2828 2834 2841 2857 2895 2901 2928 2936 2951 2953 2980 2998\n",
            " 3008 3052 3112 3115 3116 3119 3134 3140 3158 3162 3167 3171 3175 3180\n",
            " 3189 3211 3212 3219 3220 3227 3232 3234 3236 3237 3264 3270 3275 3276\n",
            " 3285 3306 3311 3313 3318 3321 3323 3326 3336 3361 3363 3372 3398 3402\n",
            " 3403 3414 3415 3421 3425 3426 3431 3435 3449 3483 3488 3492 3499 3500\n",
            " 3512 3523 3536 3546 3559 3563 3575 3583 3585 3606 3607 3628 3630 3634\n",
            " 3637 3642 3645 3650 3655 3659 3667 3671 3691 3699 3702 3705 3718 3730\n",
            " 3732 3736 3740 3743 3752 3758 3759 3764 3786 3793 3796 3800 3802 3807\n",
            " 3809 3822 3823 3824 3825 3829 3841 3851 3858 3866 3871 3878 3893 3896\n",
            " 3899 3904 3906 3923 3929 3935 3947 3954 3965 3975 3996 4005 4006 4009\n",
            " 4020 4025 4044 4045 4063 4072 4093 4096 4105 4117 4118 4144 4152 4154\n",
            " 4163 4172 4213 4221 4236 4257 4258 4266 4274 4305 4316 4318 4320 4340\n",
            " 4357 4369 4378 4410 4424 4444 4449 4457 4458 4500 4523 4526 4529 4536\n",
            " 4545 4552 4557 4579 4590 4600 4615 4647 4650 4652 4653 4669 4674 4677\n",
            " 4679 4699 4711 4714 4727 4743 4744 4746 4754 4761 4774 4778 4781 4796\n",
            " 4810 4857 4888 4897 4912 4915 4928 4935 4945 4954 4956 4958 4959 4962\n",
            " 4967 4987 5001 5002 5004 5008 5024 5037 5042 5054 5086 5091 5099 5102\n",
            " 5113 5139 5141 5147 5158 5160 5184 5185 5187 5194 5200 5209 5219 5220\n",
            " 5241 5242 5275 5335 5355 5366 5385 5409 5410 5451 5462 5476 5480 5482\n",
            " 5498 5499 5509 5511 5513 5520 5523 5525 5540 5557 5571 5574 5586 5590\n",
            " 5598 5611 5621 5637 5647 5659 5668 5670 5672 5673 5677 5685 5686 5701\n",
            " 5720 5721 5722 5725 5744 5771 5787 5793 5806 5808 5810 5818 5823 5832\n",
            " 5835 5842 5845 5847 5867 5880 5883 5888 5889 5904 5923 5929 5930 5939\n",
            " 5943 5973 5985 5996 6020 6046 6048 6056 6068 6091 6133 6139 6143 6146\n",
            " 6155 6158 6174 6195 6198 6205 6207 6218 6219 6246 6261 6268 6290 6309\n",
            " 6317 6318 6321 6326 6337 6352 6361 6363 6372 6375 6387 6398 6401 6442\n",
            " 6465 6468 6472 6480 6486 6538 6555 6562 6564 6574 6578 6583 6591 6599\n",
            " 6603 6620 6628 6661 6669 6671 6676 6693 6702 6703 6716 6726 6733 6734\n",
            " 6745 6761 6774 6775 6784 6796 6829 6854 6857 6867 6899 6911 6919 6946\n",
            " 6993 6998 7007 7019 7021 7023 7042 7051 7055 7081 7089 7093 7094 7105\n",
            " 7130 7131 7135 7136 7149 7153 7166 7210 7213 7225 7242 7257 7259 7267\n",
            " 7269 7272 7276 7277 7278 7283 7286 7296 7300 7303 7304 7315 7318 7319\n",
            " 7349 7372 7376 7383 7384 7401 7405 7412 7415 7428 7429 7443 7467 7468\n",
            " 7471 7472 7481 7497 7500 7508 7514 7539 7541 7552 7556 7583 7594 7596\n",
            " 7610 7621 7652 7655 7656 7663 7665 7666 7669 7670 7680 7707 7720 7740\n",
            " 7742 7755 7772 7786 7789 7798 7802 7819 7831 7834 7836 7852 7864 7902\n",
            " 7911 7923 7924 7933 7940 7945 7962 7969 7986 8000 8012 8023 8024 8046\n",
            " 8064 8083 8087 8099 8102 8113 8118 8122 8126 8151 8156 8157 8161 8169\n",
            " 8215 8222 8236 8254 8269 8279 8289 8294 8307 8313 8315 8317 8318 8330\n",
            " 8351 8360 8371 8377 8381 8394 8410 8416 8417 8424 8425 8432 8438 8447\n",
            " 8448 8450 8462 8464 8524 8530 8532 8534 8535 8543 8546 8572 8573 8590\n",
            " 8603 8613 8619 8624 8628 8636 8643 8644 8668 8674 8675 8677 8679 8693\n",
            " 8694 8701 8715 8739 8745 8756 8757 8762 8772 8789 8793 8804 8812 8813\n",
            " 8819 8839 8844 8870 8872 8886 8900 8916 8919 8920 8930 8933 8942 8944\n",
            " 8959 8963 8973 8980 8995 9005 9010 9011 9026 9041 9059 9072 9089 9090\n",
            " 9101 9106 9115 9129 9138 9141 9152 9160 9165 9179 9189 9201 9212 9215\n",
            " 9222 9233 9238 9245 9251 9263 9265 9270 9275 9278 9291 9296 9302 9303\n",
            " 9310 9346 9349 9351 9354 9359 9363 9367 9368 9374 9384 9400 9412 9424\n",
            " 9439 9461 9479 9484 9489 9506 9510 9520 9558 9565 9586 9587 9605 9618\n",
            " 9632 9640 9644 9661 9666 9676 9677 9680 9688 9690 9691 9704 9737 9748\n",
            " 9775 9781 9782 9791 9795 9798 9799 9805 9810 9816 9817 9819 9820 9822\n",
            " 9842 9848 9852 9882 9887 9888 9897 9907 9910 9913 9919 9925 9931 9949\n",
            " 9957 9972 9973 9980]\n",
            "TRAIN: [   0    1    2 ... 9978 9979 9980] TEST: [   7   16   22   40   67   78   97  141  147  155  162  163  204  226\n",
            "  241  246  258  264  280  282  313  342  343  359  361  365  369  370\n",
            "  377  392  398  399  407  423  424  431  441  448  456  459  460  464\n",
            "  475  484  499  521  522  541  546  562  572  581  587  595  597  608\n",
            "  610  612  631  639  646  651  660  669  685  687  689  697  702  714\n",
            "  723  727  767  772  780  781  788  819  836  839  840  855  867  874\n",
            "  875  882  895  900  905  923  930  935  948  962  976  985 1011 1013\n",
            " 1019 1031 1037 1043 1067 1070 1080 1085 1089 1091 1124 1132 1138 1143\n",
            " 1169 1171 1179 1206 1243 1246 1283 1284 1299 1311 1326 1336 1348 1368\n",
            " 1376 1377 1382 1395 1403 1404 1422 1428 1431 1447 1449 1459 1486 1492\n",
            " 1508 1517 1529 1537 1549 1567 1573 1577 1594 1602 1613 1638 1641 1651\n",
            " 1653 1668 1674 1698 1715 1716 1719 1724 1727 1749 1753 1764 1778 1781\n",
            " 1787 1814 1821 1827 1836 1855 1861 1885 1898 1900 1904 1910 1929 1938\n",
            " 1950 1953 1958 1967 1974 1991 2003 2009 2010 2014 2023 2037 2044 2066\n",
            " 2085 2090 2096 2097 2130 2148 2159 2160 2171 2179 2196 2211 2216 2220\n",
            " 2230 2238 2247 2256 2257 2267 2269 2274 2279 2281 2285 2290 2293 2295\n",
            " 2297 2307 2315 2320 2324 2325 2326 2331 2352 2355 2361 2367 2376 2379\n",
            " 2381 2400 2426 2442 2444 2448 2452 2460 2461 2468 2501 2512 2520 2524\n",
            " 2527 2528 2544 2546 2547 2555 2563 2567 2581 2583 2591 2597 2601 2608\n",
            " 2610 2613 2630 2634 2643 2649 2657 2659 2672 2675 2696 2723 2743 2757\n",
            " 2791 2810 2813 2822 2837 2856 2909 2924 2940 2947 2962 2974 2979 2990\n",
            " 2993 3013 3029 3048 3062 3069 3084 3088 3136 3137 3190 3191 3198 3200\n",
            " 3215 3243 3247 3253 3259 3271 3292 3302 3331 3339 3348 3359 3384 3390\n",
            " 3423 3447 3456 3468 3471 3489 3493 3516 3525 3537 3547 3557 3562 3565\n",
            " 3576 3586 3588 3604 3618 3631 3632 3648 3652 3657 3669 3670 3674 3678\n",
            " 3690 3694 3697 3700 3711 3716 3727 3737 3747 3750 3754 3789 3804 3808\n",
            " 3830 3831 3835 3839 3864 3867 3868 3888 3895 3897 3917 3920 3926 3938\n",
            " 3940 3958 3959 3967 3970 3976 3983 3986 3988 4008 4026 4040 4066 4082\n",
            " 4083 4088 4095 4135 4136 4155 4182 4183 4200 4214 4219 4244 4256 4260\n",
            " 4272 4283 4285 4308 4327 4351 4364 4365 4384 4402 4479 4481 4501 4517\n",
            " 4531 4542 4558 4563 4571 4577 4578 4583 4589 4592 4596 4605 4624 4627\n",
            " 4628 4643 4646 4654 4666 4676 4683 4688 4697 4713 4724 4728 4733 4741\n",
            " 4758 4798 4837 4839 4865 4874 4875 4878 4916 4940 4941 4943 4948 4966\n",
            " 4969 4979 4991 4998 5000 5017 5025 5036 5038 5055 5061 5066 5075 5077\n",
            " 5078 5080 5087 5093 5108 5110 5127 5132 5149 5154 5163 5166 5174 5175\n",
            " 5176 5195 5201 5218 5223 5230 5236 5248 5251 5297 5302 5322 5329 5330\n",
            " 5341 5345 5347 5372 5374 5380 5394 5413 5416 5432 5433 5439 5443 5448\n",
            " 5469 5483 5494 5510 5512 5514 5526 5542 5546 5553 5582 5591 5602 5607\n",
            " 5624 5643 5661 5671 5678 5683 5692 5693 5717 5738 5751 5755 5773 5774\n",
            " 5778 5783 5784 5800 5827 5844 5850 5871 5879 5886 5887 5890 5891 5906\n",
            " 5925 5926 5932 5934 5946 5948 5976 5978 5995 5999 6007 6011 6023 6026\n",
            " 6034 6036 6040 6044 6049 6063 6093 6115 6124 6140 6142 6144 6164 6165\n",
            " 6171 6186 6208 6222 6230 6232 6251 6256 6267 6272 6274 6279 6280 6281\n",
            " 6285 6286 6298 6299 6302 6304 6335 6339 6344 6345 6346 6354 6356 6357\n",
            " 6362 6370 6379 6381 6397 6404 6406 6411 6415 6416 6445 6450 6470 6488\n",
            " 6494 6509 6511 6519 6525 6526 6529 6534 6548 6566 6579 6581 6592 6598\n",
            " 6606 6626 6629 6633 6636 6643 6657 6659 6662 6679 6683 6684 6697 6701\n",
            " 6710 6724 6741 6744 6747 6757 6763 6782 6788 6793 6816 6822 6823 6841\n",
            " 6844 6845 6868 6886 6900 6907 6921 6928 6957 6963 6979 6985 6999 7003\n",
            " 7031 7060 7071 7080 7085 7088 7096 7097 7127 7128 7133 7160 7165 7167\n",
            " 7177 7182 7183 7187 7193 7230 7236 7247 7264 7279 7295 7297 7298 7301\n",
            " 7321 7345 7347 7353 7370 7378 7379 7380 7394 7395 7399 7427 7451 7456\n",
            " 7469 7499 7504 7512 7521 7522 7523 7527 7534 7540 7544 7547 7549 7569\n",
            " 7600 7602 7604 7606 7624 7634 7638 7650 7659 7662 7676 7689 7697 7736\n",
            " 7737 7741 7743 7745 7756 7758 7782 7788 7795 7796 7824 7850 7857 7859\n",
            " 7868 7870 7877 7882 7884 7885 7896 7898 7900 7903 7905 7913 7934 7936\n",
            " 7944 7947 7948 7951 7955 7964 7975 7977 7988 7998 8011 8018 8026 8030\n",
            " 8045 8049 8055 8097 8111 8124 8142 8143 8146 8185 8199 8205 8206 8214\n",
            " 8241 8274 8280 8290 8304 8305 8326 8327 8328 8329 8331 8370 8372 8373\n",
            " 8387 8397 8400 8402 8404 8412 8435 8459 8466 8469 8473 8541 8559 8561\n",
            " 8574 8582 8595 8606 8614 8615 8617 8627 8635 8649 8663 8664 8681 8700\n",
            " 8720 8730 8736 8741 8752 8780 8782 8783 8820 8821 8823 8826 8830 8834\n",
            " 8835 8853 8873 8888 8898 8908 8953 8969 8971 8985 8986 8988 8990 9002\n",
            " 9016 9034 9053 9054 9055 9056 9058 9060 9061 9071 9085 9119 9120 9128\n",
            " 9145 9166 9202 9210 9213 9225 9230 9243 9248 9262 9271 9277 9289 9295\n",
            " 9304 9306 9308 9315 9318 9322 9332 9365 9375 9377 9389 9397 9406 9415\n",
            " 9419 9421 9425 9428 9432 9434 9444 9446 9450 9451 9452 9460 9500 9504\n",
            " 9509 9512 9524 9528 9531 9542 9546 9548 9550 9553 9559 9566 9568 9570\n",
            " 9578 9593 9596 9607 9638 9654 9664 9672 9674 9679 9701 9708 9717 9723\n",
            " 9729 9738 9745 9757 9758 9768 9773 9787 9792 9800 9801 9802 9804 9818\n",
            " 9826 9846 9849 9855 9857 9865 9872 9876 9906 9917 9918 9930 9938 9948\n",
            " 9952 9953 9964 9975]\n",
            "TRAIN: [   0    2    3 ... 9977 9979 9980] TEST: [   1   11   13   21   38   54   60   66   72   74   89  105  116  130\n",
            "  140  145  148  153  158  207  213  236  237  243  261  269  271  277\n",
            "  281  285  294  306  317  329  338  340  341  352  362  363  374  390\n",
            "  405  406  454  458  481  482  488  514  525  526  529  542  545  552\n",
            "  556  560  571  575  583  593  614  619  629  630  632  634  645  661\n",
            "  686  688  703  707  726  768  778  791  792  804  806  822  824  832\n",
            "  845  891  892  894  899  917  920  933  936  943  951  954  955  959\n",
            "  963  966  968  974  986  987  988 1000 1007 1012 1040 1048 1050 1058\n",
            " 1072 1098 1100 1125 1133 1136 1165 1177 1198 1205 1229 1232 1239 1240\n",
            " 1241 1249 1265 1266 1274 1279 1286 1290 1300 1301 1304 1308 1312 1316\n",
            " 1333 1341 1343 1367 1380 1386 1387 1388 1389 1390 1394 1435 1440 1442\n",
            " 1466 1481 1494 1500 1521 1523 1524 1525 1555 1560 1591 1601 1607 1622\n",
            " 1639 1640 1667 1682 1689 1704 1709 1712 1725 1735 1742 1750 1759 1762\n",
            " 1763 1766 1771 1796 1798 1804 1823 1826 1868 1875 1884 1913 1925 1927\n",
            " 1933 1939 1949 1960 1969 1980 1985 1990 2032 2033 2043 2050 2051 2056\n",
            " 2064 2065 2071 2074 2079 2102 2106 2113 2120 2137 2139 2162 2198 2203\n",
            " 2265 2278 2289 2322 2334 2343 2349 2353 2356 2359 2365 2382 2383 2396\n",
            " 2401 2403 2408 2419 2421 2428 2430 2466 2469 2475 2482 2493 2494 2496\n",
            " 2507 2529 2530 2538 2541 2556 2562 2573 2599 2604 2632 2661 2665 2667\n",
            " 2679 2710 2711 2713 2717 2719 2720 2725 2736 2740 2752 2768 2772 2774\n",
            " 2785 2808 2817 2823 2831 2844 2852 2863 2866 2875 2896 2920 2946 2958\n",
            " 2959 2964 2969 2978 2983 2989 3004 3020 3028 3036 3040 3041 3042 3054\n",
            " 3056 3061 3067 3081 3083 3093 3097 3117 3138 3144 3155 3173 3174 3178\n",
            " 3179 3186 3192 3201 3216 3223 3224 3225 3229 3230 3239 3241 3249 3273\n",
            " 3287 3291 3294 3300 3310 3335 3342 3356 3380 3389 3427 3430 3432 3451\n",
            " 3452 3453 3462 3466 3496 3511 3549 3553 3564 3568 3572 3591 3594 3598\n",
            " 3600 3603 3610 3619 3629 3633 3638 3640 3654 3665 3675 3676 3679 3683\n",
            " 3695 3701 3712 3713 3714 3724 3725 3726 3738 3741 3760 3762 3778 3788\n",
            " 3810 3814 3828 3845 3850 3874 3883 3911 3919 3930 3953 3972 3993 3998\n",
            " 4036 4037 4073 4090 4109 4114 4116 4124 4133 4137 4138 4150 4153 4167\n",
            " 4177 4179 4187 4197 4203 4211 4223 4232 4242 4243 4255 4259 4263 4278\n",
            " 4286 4293 4311 4346 4349 4356 4358 4361 4388 4399 4406 4422 4425 4430\n",
            " 4431 4435 4437 4440 4443 4445 4470 4473 4485 4494 4497 4524 4543 4547\n",
            " 4551 4566 4569 4576 4585 4599 4616 4644 4648 4675 4703 4725 4732 4757\n",
            " 4760 4788 4790 4795 4799 4805 4806 4811 4815 4831 4841 4853 4873 4876\n",
            " 4882 4895 4904 4909 4917 4926 4930 4944 4971 5005 5010 5016 5043 5047\n",
            " 5068 5083 5084 5085 5101 5105 5136 5150 5178 5179 5182 5189 5203 5207\n",
            " 5208 5233 5238 5243 5252 5280 5291 5295 5299 5319 5343 5346 5352 5367\n",
            " 5370 5383 5392 5420 5429 5435 5445 5472 5475 5490 5495 5519 5524 5543\n",
            " 5548 5561 5604 5619 5626 5631 5636 5655 5656 5658 5690 5704 5724 5752\n",
            " 5757 5760 5772 5776 5777 5782 5789 5796 5797 5877 5897 5901 5907 5913\n",
            " 5941 5947 5954 5962 5975 6012 6016 6035 6047 6052 6059 6075 6078 6082\n",
            " 6089 6097 6099 6106 6116 6122 6136 6150 6154 6183 6185 6212 6228 6236\n",
            " 6257 6262 6276 6284 6292 6294 6305 6320 6342 6353 6368 6402 6430 6441\n",
            " 6446 6467 6471 6477 6479 6490 6524 6527 6540 6542 6549 6563 6570 6573\n",
            " 6596 6602 6609 6610 6612 6635 6638 6640 6644 6645 6652 6656 6667 6674\n",
            " 6675 6704 6721 6722 6732 6737 6764 6766 6770 6780 6783 6787 6807 6812\n",
            " 6813 6852 6869 6894 6895 6904 6917 6924 6936 6960 6965 6976 6980 7000\n",
            " 7005 7009 7010 7014 7029 7045 7052 7057 7059 7062 7069 7083 7101 7115\n",
            " 7117 7119 7121 7123 7124 7126 7137 7138 7141 7151 7154 7174 7175 7179\n",
            " 7184 7214 7218 7221 7227 7232 7246 7268 7271 7274 7284 7285 7287 7291\n",
            " 7294 7311 7314 7327 7340 7351 7368 7373 7397 7406 7424 7426 7431 7437\n",
            " 7446 7473 7479 7486 7490 7491 7511 7519 7559 7564 7595 7603 7617 7622\n",
            " 7633 7643 7644 7657 7674 7686 7693 7694 7705 7709 7715 7717 7725 7761\n",
            " 7776 7800 7813 7827 7832 7833 7842 7843 7848 7867 7878 7904 7906 7935\n",
            " 7967 7971 7979 7980 7982 8005 8032 8038 8041 8044 8056 8058 8073 8086\n",
            " 8105 8125 8133 8189 8190 8194 8201 8202 8207 8212 8213 8219 8220 8227\n",
            " 8228 8230 8232 8234 8235 8238 8245 8250 8252 8270 8272 8301 8320 8321\n",
            " 8339 8340 8341 8356 8357 8358 8363 8368 8378 8406 8407 8428 8436 8441\n",
            " 8442 8446 8454 8457 8465 8467 8476 8477 8487 8492 8502 8503 8519 8533\n",
            " 8536 8539 8551 8584 8585 8588 8592 8621 8623 8633 8646 8655 8661 8689\n",
            " 8695 8703 8705 8709 8721 8735 8748 8770 8784 8786 8788 8798 8799 8801\n",
            " 8810 8822 8843 8856 8866 8875 8881 8882 8899 8907 8913 8914 8918 8931\n",
            " 8936 8941 8949 8960 8966 8976 8983 8991 8997 9003 9014 9015 9027 9039\n",
            " 9040 9044 9052 9063 9076 9080 9099 9100 9103 9108 9109 9127 9134 9154\n",
            " 9173 9181 9186 9209 9211 9218 9234 9247 9252 9283 9288 9292 9293 9313\n",
            " 9330 9345 9361 9362 9369 9371 9376 9379 9398 9437 9447 9466 9468 9482\n",
            " 9488 9496 9515 9523 9526 9527 9533 9549 9557 9563 9567 9583 9584 9595\n",
            " 9604 9613 9621 9631 9633 9635 9641 9646 9651 9660 9689 9700 9709 9712\n",
            " 9719 9728 9733 9736 9739 9763 9793 9796 9812 9831 9833 9839 9845 9847\n",
            " 9873 9875 9879 9883 9892 9899 9900 9912 9914 9926 9927 9932 9951 9960\n",
            " 9965 9967 9969 9978]\n",
            "TRAIN: [   0    1    2 ... 9978 9979 9980] TEST: [   4    5    9   55   64   77   94   98  117  125  126  133  137  154\n",
            "  161  189  190  197  202  206  224  225  232  235  249  255  260  262\n",
            "  301  302  345  364  384  391  395  404  412  417  419  466  502  504\n",
            "  512  523  536  537  539  559  569  574  580  600  606  635  638  659\n",
            "  663  666  667  671  698  699  716  717  728  760  769  770  775  784\n",
            "  793  814  823  825  827  830  846  851  853  854  860  863  876  878\n",
            "  918  922  924  928  950  953  956  980  984  995 1015 1016 1021 1028\n",
            " 1045 1059 1060 1062 1063 1065 1066 1069 1077 1081 1120 1122 1148 1150\n",
            " 1154 1167 1184 1191 1202 1214 1218 1248 1252 1256 1267 1276 1291 1296\n",
            " 1306 1324 1331 1342 1353 1365 1409 1460 1484 1495 1528 1531 1540 1542\n",
            " 1571 1581 1585 1604 1605 1619 1625 1633 1636 1645 1646 1648 1663 1664\n",
            " 1678 1679 1685 1686 1687 1693 1707 1733 1734 1757 1761 1792 1802 1810\n",
            " 1816 1828 1838 1841 1843 1852 1853 1854 1865 1887 1895 1899 1906 1908\n",
            " 1917 1930 1931 1959 1970 1976 1986 1994 1997 1998 2000 2026 2027 2047\n",
            " 2048 2049 2060 2062 2082 2105 2116 2125 2136 2141 2143 2156 2180 2190\n",
            " 2192 2193 2200 2204 2205 2219 2243 2255 2327 2336 2368 2371 2385 2393\n",
            " 2427 2433 2443 2454 2472 2479 2489 2491 2502 2504 2511 2539 2551 2557\n",
            " 2558 2560 2568 2590 2593 2612 2635 2645 2674 2681 2693 2695 2703 2708\n",
            " 2712 2731 2733 2734 2738 2739 2744 2745 2747 2779 2782 2786 2790 2797\n",
            " 2806 2811 2814 2824 2832 2838 2839 2849 2869 2871 2872 2878 2891 2898\n",
            " 2911 2914 2923 2931 2950 2961 2967 2975 2976 3005 3009 3030 3051 3072\n",
            " 3073 3086 3099 3104 3108 3124 3141 3147 3152 3157 3170 3177 3228 3242\n",
            " 3266 3267 3304 3324 3327 3330 3343 3345 3354 3368 3373 3374 3376 3385\n",
            " 3391 3394 3417 3419 3420 3436 3440 3444 3446 3472 3476 3486 3490 3506\n",
            " 3507 3510 3517 3530 3531 3556 3561 3579 3581 3584 3596 3627 3636 3644\n",
            " 3672 3687 3696 3709 3719 3735 3744 3748 3756 3763 3766 3769 3775 3797\n",
            " 3812 3818 3840 3843 3854 3863 3876 3890 3900 3913 3925 3943 3974 3987\n",
            " 4000 4014 4018 4021 4033 4061 4070 4079 4107 4142 4143 4146 4158 4164\n",
            " 4171 4175 4178 4186 4188 4199 4206 4208 4212 4218 4225 4227 4234 4249\n",
            " 4261 4268 4282 4289 4297 4300 4312 4324 4330 4360 4363 4380 4389 4413\n",
            " 4426 4432 4433 4451 4452 4465 4468 4488 4491 4492 4493 4495 4496 4499\n",
            " 4530 4544 4548 4555 4611 4612 4621 4632 4636 4637 4642 4658 4662 4670\n",
            " 4673 4719 4729 4735 4736 4737 4748 4752 4777 4780 4784 4804 4809 4820\n",
            " 4835 4846 4849 4854 4858 4859 4869 4887 4892 4893 4910 4911 4931 4946\n",
            " 4964 4968 4973 4976 4980 5029 5031 5051 5052 5056 5063 5073 5088 5104\n",
            " 5109 5115 5116 5122 5124 5126 5134 5142 5161 5172 5177 5188 5191 5222\n",
            " 5232 5237 5240 5249 5256 5258 5276 5287 5293 5301 5305 5311 5315 5320\n",
            " 5334 5342 5348 5373 5387 5390 5393 5401 5408 5415 5423 5442 5449 5450\n",
            " 5463 5468 5486 5530 5534 5535 5536 5539 5541 5560 5565 5567 5569 5575\n",
            " 5578 5585 5588 5592 5596 5600 5618 5622 5625 5644 5645 5675 5691 5699\n",
            " 5713 5726 5732 5734 5742 5745 5750 5759 5765 5779 5788 5791 5801 5811\n",
            " 5854 5855 5864 5870 5878 5881 5892 5895 5915 5917 5919 5949 5951 5959\n",
            " 5966 5971 5977 5984 5986 5988 5989 5997 6002 6015 6019 6024 6028 6031\n",
            " 6038 6042 6090 6102 6132 6166 6168 6172 6184 6190 6197 6229 6233 6235\n",
            " 6238 6241 6254 6265 6269 6278 6283 6287 6288 6293 6295 6303 6313 6316\n",
            " 6327 6331 6359 6371 6374 6376 6396 6413 6420 6439 6456 6457 6469 6484\n",
            " 6493 6506 6514 6528 6530 6541 6544 6546 6565 6585 6588 6600 6614 6616\n",
            " 6617 6619 6655 6665 6668 6677 6694 6709 6731 6736 6738 6748 6767 6776\n",
            " 6777 6799 6801 6806 6809 6819 6833 6863 6873 6881 6882 6891 6892 6893\n",
            " 6898 6905 6910 6937 6938 6941 6943 6944 6949 6966 6970 6971 6981 6986\n",
            " 6988 6996 7002 7004 7022 7026 7027 7035 7041 7043 7056 7079 7098 7099\n",
            " 7102 7112 7114 7125 7140 7147 7158 7164 7186 7190 7192 7196 7206 7208\n",
            " 7215 7239 7240 7241 7245 7253 7266 7270 7280 7312 7326 7330 7339 7343\n",
            " 7350 7357 7385 7390 7392 7400 7404 7408 7409 7418 7419 7421 7449 7455\n",
            " 7483 7489 7494 7509 7513 7526 7543 7546 7554 7555 7560 7561 7570 7574\n",
            " 7575 7576 7577 7587 7629 7641 7648 7651 7667 7668 7673 7679 7683 7687\n",
            " 7714 7721 7723 7730 7734 7777 7783 7790 7804 7805 7806 7830 7849 7858\n",
            " 7860 7863 7869 7891 7892 7901 7916 7939 7941 7943 7956 7970 7973 7984\n",
            " 7987 7989 7992 7994 7996 8002 8004 8006 8007 8010 8017 8050 8053 8070\n",
            " 8082 8096 8110 8120 8130 8135 8150 8152 8154 8155 8162 8164 8172 8173\n",
            " 8175 8195 8208 8226 8258 8306 8308 8311 8319 8322 8335 8338 8352 8389\n",
            " 8392 8393 8415 8427 8433 8434 8445 8472 8512 8527 8529 8549 8554 8567\n",
            " 8571 8577 8580 8609 8647 8659 8662 8666 8669 8680 8684 8691 8702 8716\n",
            " 8717 8754 8755 8766 8787 8792 8795 8800 8808 8815 8837 8838 8865 8867\n",
            " 8901 8905 8915 8924 8932 8945 8958 8967 8989 8996 9007 9062 9064 9086\n",
            " 9087 9091 9093 9111 9146 9151 9163 9167 9178 9183 9204 9207 9208 9258\n",
            " 9267 9268 9273 9274 9276 9284 9287 9314 9323 9331 9337 9339 9342 9347\n",
            " 9348 9358 9370 9390 9395 9403 9407 9409 9417 9423 9426 9430 9435 9438\n",
            " 9462 9464 9467 9469 9474 9485 9492 9508 9534 9537 9540 9555 9561 9606\n",
            " 9616 9623 9634 9637 9648 9670 9686 9687 9692 9703 9721 9740 9741 9754\n",
            " 9762 9769 9778 9785 9789 9803 9829 9830 9835 9859 9863 9933 9935 9936\n",
            " 9959 9962 9963 9968]\n"
          ]
        }
      ],
      "source": [
        "for train_index, test_index in kf.split(X):\n",
        "    print(\"TRAIN:\", train_index, \"TEST:\", test_index)\n",
        "    X_train, X_test = X[train_index], X[test_index]\n",
        "    y_train, y_test = y[train_index], y[test_index]"
      ]
    },
    {
      "cell_type": "code",
      "execution_count": null,
      "metadata": {
        "id": "Cf9SoJa6wBNY"
      },
      "outputs": [],
      "source": [
        "#X_train, X_test, y_train, y_test = train_test_split(X, y )"
      ]
    },
    {
      "cell_type": "code",
      "execution_count": null,
      "metadata": {
        "id": "GB6XP1g4wBNb"
      },
      "outputs": [],
      "source": [
        "\n",
        "#y_train.value_counts()"
      ]
    },
    {
      "cell_type": "code",
      "execution_count": null,
      "metadata": {
        "id": "F-05ohCKwBNh"
      },
      "outputs": [],
      "source": [
        "#y_test.value_counts()"
      ]
    },
    {
      "cell_type": "markdown",
      "metadata": {
        "id": "wcbPezN6wBNl"
      },
      "source": [
        "# Naive Bayes Classifier"
      ]
    },
    {
      "cell_type": "code",
      "source": [
        "from sklearn import naive_bayes\n",
        "from sklearn.model_selection import KFold\n",
        "from sklearn.feature_extraction.text import CountVectorizer\n",
        "from sklearn.naive_bayes import MultinomialNB\n",
        "\n",
        "# Siapkan KFold\n",
        "kf = KFold(n_splits=10, shuffle=True, random_state=42)\n",
        "accuracies = []\n",
        "# Loop setiap fold\n",
        "for train_index, test_index in kf.split(X):\n",
        "    X_train, X_test = X[train_index], X[test_index]\n",
        "    y_train, y_test = y[train_index], y[test_index]\n",
        "\n",
        "    # Vektorisasi\n",
        "    vectorizer = CountVectorizer()\n",
        "    X_train_vec = vectorizer.fit_transform(X_train)\n",
        "    X_test_vec = vectorizer.transform(X_test)\n",
        "\n",
        "    # Model\n",
        "    model = MultinomialNB()\n",
        "    model.fit(X_train_vec, y_train)\n",
        "    y_pred = model.predict(X_test_vec)\n",
        "\n",
        "    # Hitung akurasi\n",
        "    acc = accuracy_score(y_test, y_pred)\n",
        "    accuracies.append(acc)\n",
        "\n",
        "# Rata-rata akurasi\n",
        "print(\"Akurasi per fold:\", accuracies)\n",
        "print(\"Rata-rata akurasi:\", np.mean(accuracies))"
      ],
      "metadata": {
        "colab": {
          "base_uri": "https://localhost:8080/"
        },
        "id": "_TZJJ6FSindZ",
        "outputId": "bb735292-07fe-42df-849b-94cb3ab0ffa3"
      },
      "execution_count": null,
      "outputs": [
        {
          "output_type": "stream",
          "name": "stdout",
          "text": [
            "Akurasi per fold: [0.7787787787787788, 0.7875751503006012, 0.7625250501002004, 0.8026052104208417, 0.7905811623246493, 0.7675350701402806, 0.7875751503006012, 0.7935871743486974, 0.7785571142284569, 0.7935871743486974]\n",
            "Rata-rata akurasi: 0.7842907035291805\n"
          ]
        }
      ]
    },
    {
      "cell_type": "code",
      "source": [
        "from sklearn.metrics import confusion_matrix, classification_report\n",
        "import matplotlib.pyplot as plt\n",
        "import seaborn as sns\n",
        "import numpy as np\n",
        "\n",
        "predictions = y_pred\n",
        "# Memastikan y_test dan predictions memiliki panjang yang sama\n",
        "if len(y_test) != len(predictions):\n",
        "    min_length = min(len(y_test), len(predictions))\n",
        "    y_test = y_test[:min_length]  # memotng agar panjangnya sama\n",
        "    predictions = predictions[:min_length]\n",
        "\n",
        "# Menghitung confusion matrix\n",
        "cm = confusion_matrix(y_test, predictions)\n",
        "\n",
        "# Cetak confusion matrix dan classification report\n",
        "print(cm)\n",
        "print(classification_report(y_test, predictions))\n",
        "\n",
        "# menampilkan Confusion Matrix\n",
        "# Label kelas\n",
        "labels = ['Positif', 'Negatif', 'Netral']\n",
        "\n",
        "# Plot\n",
        "plt.figure(figsize=(6, 5))\n",
        "sns.heatmap(cm, annot=True, fmt='d', cmap='Blues',\n",
        "            xticklabels=labels, yticklabels=labels,\n",
        "            cbar=True, square=True, linewidths=0.5, linecolor='white')\n",
        "\n",
        "plt.xlabel('Predicted final_label')\n",
        "plt.ylabel('True final_label')\n",
        "plt.title('Confusion Matrix - Fold ke-10')\n",
        "plt.tight_layout()\n",
        "plt.show()"
      ],
      "metadata": {
        "colab": {
          "base_uri": "https://localhost:8080/",
          "height": 939
        },
        "id": "8_GjD7Vti1Ce",
        "outputId": "f7a23d51-aa47-4e95-b6d8-4d47d287e281"
      },
      "execution_count": null,
      "outputs": [
        {
          "output_type": "stream",
          "name": "stdout",
          "text": [
            "[[355   2   2   0  12]\n",
            " [ 61   1   0   0   2]\n",
            " [ 56   1   1   0   8]\n",
            " [ 15   0   0   0  16]\n",
            " [ 29   2   0   0 435]]\n",
            "              precision    recall  f1-score   support\n",
            "\n",
            "           1       0.69      0.96      0.80       371\n",
            "           2       0.17      0.02      0.03        64\n",
            "           3       0.33      0.02      0.03        66\n",
            "           4       0.00      0.00      0.00        31\n",
            "           5       0.92      0.93      0.93       466\n",
            "\n",
            "    accuracy                           0.79       998\n",
            "   macro avg       0.42      0.38      0.36       998\n",
            "weighted avg       0.72      0.79      0.73       998\n",
            "\n"
          ]
        },
        {
          "output_type": "stream",
          "name": "stderr",
          "text": [
            "/usr/local/lib/python3.11/dist-packages/sklearn/metrics/_classification.py:1565: UndefinedMetricWarning: Precision is ill-defined and being set to 0.0 in labels with no predicted samples. Use `zero_division` parameter to control this behavior.\n",
            "  _warn_prf(average, modifier, f\"{metric.capitalize()} is\", len(result))\n",
            "/usr/local/lib/python3.11/dist-packages/sklearn/metrics/_classification.py:1565: UndefinedMetricWarning: Precision is ill-defined and being set to 0.0 in labels with no predicted samples. Use `zero_division` parameter to control this behavior.\n",
            "  _warn_prf(average, modifier, f\"{metric.capitalize()} is\", len(result))\n",
            "/usr/local/lib/python3.11/dist-packages/sklearn/metrics/_classification.py:1565: UndefinedMetricWarning: Precision is ill-defined and being set to 0.0 in labels with no predicted samples. Use `zero_division` parameter to control this behavior.\n",
            "  _warn_prf(average, modifier, f\"{metric.capitalize()} is\", len(result))\n"
          ]
        },
        {
          "output_type": "display_data",
          "data": {
            "text/plain": [
              "<Figure size 600x500 with 2 Axes>"
            ],
            "image/png": "[encoded data removed]"
          },
          "metadata": {}
        }
      ]
    },
    {
      "cell_type": "markdown",
      "source": [
        "SET UP DAN K-FOLD(AMBIL FOLD KE-10)"
      ],
      "metadata": {
        "id": "UhwJiznqi_dU"
      }
    },
    {
      "cell_type": "code",
      "source": [
        "from sklearn.model_selection import KFold\n",
        "import numpy as np\n",
        "\n",
        "kf = KFold(n_splits=10, shuffle=True, random_state=42)\n",
        "\n",
        "final_X_test = None\n",
        "final_y_pred = None\n",
        "\n",
        "for fold, (train_index, test_index) in enumerate(kf.split(X), start=1):\n",
        "    X_train, X_test = X[train_index], X[test_index]\n",
        "    y_train, y_test = y[train_index], y[test_index]\n",
        "\n",
        "    # Vektorisasi\n",
        "    X_train_vec = vectorizer.fit_transform(X_train)\n",
        "    X_test_vec = vectorizer.transform(X_test)\n",
        "\n",
        "    # Fit dan prediksi\n",
        "    model.fit(X_train_vec, y_train)\n",
        "    y_pred = model.predict(X_test_vec)\n",
        "\n",
        "    # Simpan hasil khusus untuk fold ke-10\n",
        "    if fold == 10:\n",
        "        final_X_test = X_test\n",
        "        final_y_pred = y_pred\n",
        "        final_X_test_vec = X_test_vec\n"
      ],
      "metadata": {
        "id": "nIii9xcPjRnT"
      },
      "execution_count": null,
      "outputs": []
    },
    {
      "cell_type": "markdown",
      "source": [
        "VISUALISASI DISTRIBUSI PREDIKSI FOLD KE-1O"
      ],
      "metadata": {
        "id": "UlEfriKzjXNG"
      }
    },
    {
      "cell_type": "code",
      "source": [
        "import matplotlib.pyplot as plt\n",
        "\n",
        "# Hitung jumlah prediksi\n",
        "positifcount = sum(pred == 1 for pred in final_y_pred)\n",
        "negatifcount = sum(pred == 2 for pred in final_y_pred)\n",
        "netralcount = sum(pred == 3 for pred in final_y_pred)\n",
        "\n",
        "# Visualisasi\n",
        "x = ['positif', 'negatif', 'netral']\n",
        "y = [positifcount, negatifcount, netralcount]\n",
        "\n",
        "print(\"positif:\", positifcount)\n",
        "print(\"negatif:\", negatifcount)\n",
        "print(\"netral:\", netralcount)\n",
        "\n",
        "fig = plt.figure()\n",
        "ax = fig.add_axes([0, 0, 1, 1])\n",
        "ax.bar(x, y, color=['green', 'red'])\n",
        "plt.title(\"Distribusi Prediksi Fold ke-10\")\n",
        "plt.ylabel(\"Jumlah\")\n",
        "plt.show()"
      ],
      "metadata": {
        "colab": {
          "base_uri": "https://localhost:8080/",
          "height": 615
        },
        "id": "KehE-ME4jgZo",
        "outputId": "70b1ba25-fab3-47dc-f99e-af9e242d7c8f"
      },
      "execution_count": null,
      "outputs": [
        {
          "output_type": "stream",
          "name": "stdout",
          "text": [
            "positif: 516\n",
            "negatif: 6\n",
            "netral: 3\n"
          ]
        },
        {
          "output_type": "display_data",
          "data": {
            "text/plain": [
              "<Figure size 640x480 with 1 Axes>"
            ],
            "image/png": "[encoded data removed]"
          },
          "metadata": {}
        }
      ]
    },
    {
      "cell_type": "markdown",
      "source": [
        "SINGKRONISASI DENGAN KAMUS PRESEPSI"
      ],
      "metadata": {
        "id": "0x1d6_yhjl5W"
      }
    },
    {
      "cell_type": "code",
      "source": [
        "import pandas as pd\n",
        "import re\n",
        "\n",
        "# Load kamus persepsi\n",
        "kamus_df = pd.read_csv('kamus_persepsi_sentimen.csv')\n",
        "kamus_df.columns = kamus_df.columns.str.lower()\n",
        "\n",
        "kamus_positif = set(kamus_df[kamus_df['positive'].notna()]['positive'])\n",
        "kamus_negatif = set(kamus_df[kamus_df['negative'].notna()]['negative'])\n",
        "kamus_netral = set(kamus_df[kamus_df['netral'].notna()]['netral'])\n",
        "\n",
        "# Siapkan DataFrame dari fold ke-10\n",
        "X_review_series = pd.Series(final_X_test)\n",
        "df_prediksi = pd.DataFrame({\n",
        "    'review': X_review_series,\n",
        "    'prediksi': final_y_pred\n",
        "})\n",
        "\n",
        "# Ekstrak kata yang cocok dengan kamus\n",
        "def ekstrak_review(review, kamus):\n",
        "    review = re.sub(r'[^a-zA-Z\\s]', '', review).lower()\n",
        "    return [review for review in review.split() if review in kamus]\n",
        "\n",
        "kata_positif = []\n",
        "kata_negatif = []\n",
        "kata_netral = []\n",
        "\n",
        "for teks in df_prediksi[df_prediksi['prediksi'] == 1]['review']:\n",
        "    kata_positif.extend(ekstrak_kata(teks, kamus_positif))\n",
        "\n",
        "for teks in df_prediksi[df_prediksi['prediksi'] == 2]['review']:\n",
        "    kata_negatif.extend(ekstrak_kata(teks, kamus_negatif))\n",
        "\n",
        "for teks in df_prediksi[df_prediksi['prediksi'] == 3]['review']:\n",
        "    kata_netral.extend(ekstrak_kata(teks, kamus_netral))\n",
        "\n",
        "print(\"🔹 Kata-kata dalam ulasan POSITIF:\")\n",
        "print(kata_positif)\n",
        "print(\"\\n🔸 Kata-kata dalam ulasan NEGATIF:\")\n",
        "print(kata_negatif)\n",
        "print(\"\\n🔸 Kata-kata dalam ulasan NETRAL:\")\n",
        "print(kata_netral)"
      ],
      "metadata": {
        "colab": {
          "base_uri": "https://localhost:8080/"
        },
        "id": "q1oocZGIjrLE",
        "outputId": "b14d9695-9cb1-4908-f506-c7049a7009e8"
      },
      "execution_count": null,
      "outputs": [
        {
          "output_type": "stream",
          "name": "stdout",
          "text": [
            "🔹 Kata-kata dalam ulasan POSITIF:\n",
            "['mudah', 'baik', 'aman', 'bagus', 'baik', 'aman', 'baik', 'baik', 'baik', 'baik', 'baik', 'bagus', 'aman', 'bagus', 'baik', 'stabil', 'nyaman', 'baik', 'cepat', 'baik', 'bagus', 'baik', 'cepat', 'nyaman', 'baik', 'cepat', 'baik', 'nyaman', 'baik', 'bagus', 'baik', 'baik', 'bagus', 'baik', 'baik', 'bagus', 'baik', 'baik', 'baik', 'baik', 'baik', 'cepat', 'baik', 'cepat', 'bagus', 'bagus', 'baik', 'baik', 'baik', 'baik', 'bagus', 'baik', 'baik', 'bagus', 'baik', 'baik', 'sukses', 'nyaman', 'baik', 'baik', 'baik', 'lancar', 'bagus', 'baik', 'baik', 'aman', 'aman', 'mudah', 'nyaman', 'baik', 'baik', 'praktis', 'cepat', 'baik', 'mudah', 'baik', 'baik', 'nyaman', 'baik', 'aman', 'bagus', 'baik', 'mudah', 'baik', 'bagus', 'baik', 'baik', 'nyaman', 'nyaman', 'baik', 'baik', 'baik', 'baik', 'bagus', 'baik', 'mudah', 'baik', 'bagus', 'bagus', 'baik', 'baik', 'baik', 'bagus', 'mudah', 'bagus', 'baik', 'baik', 'baik', 'mudah', 'cepat', 'sempurna', 'mudah', 'sempurna', 'mudah', 'bagus', 'baik', 'cepat', 'baik', 'baik', 'nyaman', 'baik', 'baik', 'baik', 'bagus', 'baik', 'puas', 'baik', 'baik', 'puas', 'aman', 'aman', 'baik', 'baik', 'bagus', 'baik', 'baik', 'baik', 'baik', 'baik', 'baik', 'cepat', 'cepat', 'baik', 'cepat', 'baik', 'baik', 'baik', 'nyaman', 'baik', 'baik', 'bagus', 'baik', 'baik', 'baik', 'bagus', 'baik', 'bagus', 'bagus', 'nyaman', 'sempurna', 'nyaman', 'baik', 'mudah', 'baik', 'lancar']\n",
            "\n",
            "🔸 Kata-kata dalam ulasan NEGATIF:\n",
            "['lama']\n",
            "\n",
            "🔸 Kata-kata dalam ulasan NETRAL:\n",
            "[]\n"
          ]
        }
      ]
    },
    {
      "cell_type": "markdown",
      "source": [
        "WORDCLOUD"
      ],
      "metadata": {
        "id": "1VG09VOvjxkO"
      }
    },
    {
      "cell_type": "code",
      "source": [
        "from wordcloud import WordCloud\n",
        "\n",
        "# Wordcloud POSITIF\n",
        "positif_review = ' '.join(kata_positif)\n",
        "wordcloud_pos = WordCloud(width=800, height=400, background_color='white').generate(positif_review)\n",
        "\n",
        "plt.figure(figsize=(10, 5))\n",
        "plt.imshow(wordcloud_pos, interpolation='bilinear')\n",
        "plt.axis('off')\n",
        "plt.title(\"Wordcloud Positif\")\n",
        "plt.show()\n"
      ],
      "metadata": {
        "colab": {
          "base_uri": "https://localhost:8080/",
          "height": 444
        },
        "id": "defQfhOAjzZe",
        "outputId": "7bc5ad1a-3250-40a1-c01f-2460345e4ef1"
      },
      "execution_count": null,
      "outputs": [
        {
          "output_type": "display_data",
          "data": {
            "text/plain": [
              "<Figure size 1000x500 with 1 Axes>"
            ],
            "image/png": "[encoded data removed]"
          },
          "metadata": {}
        }
      ]
    },
    {
      "cell_type": "code",
      "source": [
        "# Wordcloud NEGATIF\n",
        "negatif_review = ' '.join(kata_negatif)\n",
        "wordcloud_neg = WordCloud(width=800, height=400, background_color='white').generate(negatif_review)\n",
        "\n",
        "plt.figure(figsize=(10, 5))\n",
        "plt.imshow(wordcloud_neg, interpolation='bilinear')\n",
        "plt.axis('off')\n",
        "plt.title(\"Wordcloud Negatif\")\n",
        "plt.show()"
      ],
      "metadata": {
        "colab": {
          "base_uri": "https://localhost:8080/",
          "height": 444
        },
        "id": "q7WLwTpBj3Hq",
        "outputId": "26f39b68-661a-454e-8bed-0a0540def413"
      },
      "execution_count": null,
      "outputs": [
        {
          "output_type": "display_data",
          "data": {
            "text/plain": [
              "<Figure size 1000x500 with 1 Axes>"
            ],
            "image/png": "[encoded data removed]"
          },
          "metadata": {}
        }
      ]
    },
    {
      "cell_type": "code",
      "source": [
        "# Wordcloud NETRAL\n",
        "negatif_review = ' '.join(kata_netral)\n",
        "wordcloud_neg = WordCloud(width=800, height=400, background_color='white').generate(netral_review)\n",
        "\n",
        "plt.figure(figsize=(10, 5))\n",
        "plt.imshow(wordcloud_neg, interpolation='bilinear')\n",
        "plt.axis('off')\n",
        "plt.title(\"Wordcloud Netral\")\n",
        "plt.show()"
      ],
      "metadata": {
        "colab": {
          "base_uri": "https://localhost:8080/",
          "height": 211
        },
        "id": "O7mx7sXjj6N_",
        "outputId": "37ddc025-956c-4a90-a7a5-6a7128649ffd"
      },
      "execution_count": null,
      "outputs": [
        {
          "output_type": "error",
          "ename": "NameError",
          "evalue": "name 'netral_review' is not defined",
          "traceback": [
            "\u001b[0;31m---------------------------------------------------------------------------\u001b[0m",
            "\u001b[0;31mNameError\u001b[0m                                 Traceback (most recent call last)",
            "\u001b[0;32m/tmp/ipython-input-3694142913.py\u001b[0m in \u001b[0;36m<cell line: 0>\u001b[0;34m()\u001b[0m\n\u001b[1;32m      1\u001b[0m \u001b[0;31m# Wordcloud NETRAL\u001b[0m\u001b[0;34m\u001b[0m\u001b[0;34m\u001b[0m\u001b[0m\n\u001b[1;32m      2\u001b[0m \u001b[0mnegatif_review\u001b[0m \u001b[0;34m=\u001b[0m \u001b[0;34m' '\u001b[0m\u001b[0;34m.\u001b[0m\u001b[0mjoin\u001b[0m\u001b[0;34m(\u001b[0m\u001b[0mkata_netral\u001b[0m\u001b[0;34m)\u001b[0m\u001b[0;34m\u001b[0m\u001b[0;34m\u001b[0m\u001b[0m\n\u001b[0;32m----> 3\u001b[0;31m \u001b[0mwordcloud_neg\u001b[0m \u001b[0;34m=\u001b[0m \u001b[0mWordCloud\u001b[0m\u001b[0;34m(\u001b[0m\u001b[0mwidth\u001b[0m\u001b[0;34m=\u001b[0m\u001b[0;36m800\u001b[0m\u001b[0;34m,\u001b[0m \u001b[0mheight\u001b[0m\u001b[0;34m=\u001b[0m\u001b[0;36m400\u001b[0m\u001b[0;34m,\u001b[0m \u001b[0mbackground_color\u001b[0m\u001b[0;34m=\u001b[0m\u001b[0;34m'white'\u001b[0m\u001b[0;34m)\u001b[0m\u001b[0;34m.\u001b[0m\u001b[0mgenerate\u001b[0m\u001b[0;34m(\u001b[0m\u001b[0mnetral_review\u001b[0m\u001b[0;34m)\u001b[0m\u001b[0;34m\u001b[0m\u001b[0;34m\u001b[0m\u001b[0m\n\u001b[0m\u001b[1;32m      4\u001b[0m \u001b[0;34m\u001b[0m\u001b[0m\n\u001b[1;32m      5\u001b[0m \u001b[0mplt\u001b[0m\u001b[0;34m.\u001b[0m\u001b[0mfigure\u001b[0m\u001b[0;34m(\u001b[0m\u001b[0mfigsize\u001b[0m\u001b[0;34m=\u001b[0m\u001b[0;34m(\u001b[0m\u001b[0;36m10\u001b[0m\u001b[0;34m,\u001b[0m \u001b[0;36m5\u001b[0m\u001b[0;34m)\u001b[0m\u001b[0;34m)\u001b[0m\u001b[0;34m\u001b[0m\u001b[0;34m\u001b[0m\u001b[0m\n",
            "\u001b[0;31mNameError\u001b[0m: name 'netral_review' is not defined"
          ]
        }
      ]
    },
    {
      "cell_type": "markdown",
      "source": [
        "SIMPAN KATA SINGKRONISASI"
      ],
      "metadata": {
        "id": "U5hUac0pkVBt"
      }
    },
    {
      "cell_type": "code",
      "source": [],
      "metadata": {
        "id": "8FWM6nIwkbWS"
      },
      "execution_count": null,
      "outputs": []
    }
  ],
  "metadata": {
    "colab": {
      "provenance": []
    },
    "kernelspec": {
      "display_name": "Python 3",
      "language": "python",
      "name": "python3"
    },
    "language_info": {
      "codemirror_mode": {
        "name": "ipython",
        "version": 3
      },
      "file_extension": ".py",
      "mimetype": "text/x-python",
      "name": "python",
      "nbconvert_exporter": "python",
      "pygments_lexer": "ipython3",
      "version": "3.6.5"
    }
  },
  "nbformat": 4,
  "nbformat_minor": 0
}